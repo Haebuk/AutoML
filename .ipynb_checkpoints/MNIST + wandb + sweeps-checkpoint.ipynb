{
 "cells": [
  {
   "cell_type": "code",
   "execution_count": 1,
   "metadata": {
    "colab": {
     "base_uri": "https://localhost:8080/"
    },
    "executionInfo": {
     "elapsed": 73748,
     "status": "ok",
     "timestamp": 1617800938261,
     "user": {
      "displayName": "해벅",
      "photoUrl": "",
      "userId": "02404938411472623204"
     },
     "user_tz": -540
    },
    "id": "WN1dEcMgh-Na",
    "outputId": "a8efd393-08f1-48a9-c81f-b7ea548f9aa1"
   },
   "outputs": [
    {
     "name": "stdout",
     "output_type": "stream",
     "text": [
      "\u001b[K     |████████████████████████████████| 380.5MB 48kB/s \n",
      "\u001b[K     |████████████████████████████████| 51kB 6.0MB/s \n",
      "\u001b[K     |████████████████████████████████| 4.3MB 38.1MB/s \n",
      "\u001b[K     |████████████████████████████████| 501kB 37.0MB/s \n",
      "\u001b[?25h"
     ]
    }
   ],
   "source": [
    "!pip install -q tensorflow-gpu==2.0.0-rc1\n",
    "import tensorflow as tf"
   ]
  },
  {
   "cell_type": "code",
   "execution_count": 2,
   "metadata": {
    "colab": {
     "base_uri": "https://localhost:8080/"
    },
    "executionInfo": {
     "elapsed": 84059,
     "status": "ok",
     "timestamp": 1617800948574,
     "user": {
      "displayName": "해벅",
      "photoUrl": "",
      "userId": "02404938411472623204"
     },
     "user_tz": -540
    },
    "id": "WLhHa1jkjJe9",
    "outputId": "4e22ebc7-a2a2-4508-86ee-b8856cb1e64a"
   },
   "outputs": [
    {
     "name": "stdout",
     "output_type": "stream",
     "text": [
      "\u001b[K     |████████████████████████████████| 2.1MB 3.4MB/s \n",
      "\u001b[K     |████████████████████████████████| 102kB 9.4MB/s \n",
      "\u001b[K     |████████████████████████████████| 163kB 35.8MB/s \n",
      "\u001b[K     |████████████████████████████████| 133kB 39.7MB/s \n",
      "\u001b[K     |████████████████████████████████| 71kB 8.1MB/s \n",
      "\u001b[?25h  Building wheel for subprocess32 (setup.py) ... \u001b[?25l\u001b[?25hdone\n",
      "  Building wheel for pathtools (setup.py) ... \u001b[?25l\u001b[?25hdone\n"
     ]
    }
   ],
   "source": [
    "!pip install -q wandb\n",
    "import wandb \n",
    "from wandb.keras import WandbCallback"
   ]
  },
  {
   "cell_type": "code",
   "execution_count": 3,
   "metadata": {
    "colab": {
     "base_uri": "https://localhost:8080/",
     "height": 153
    },
    "executionInfo": {
     "elapsed": 92087,
     "status": "ok",
     "timestamp": 1617800956605,
     "user": {
      "displayName": "해벅",
      "photoUrl": "",
      "userId": "02404938411472623204"
     },
     "user_tz": -540
    },
    "id": "uYY2WQrXjtmS",
    "outputId": "67dde8a5-ef4a-440a-b35f-2de9c32cca61"
   },
   "outputs": [
    {
     "data": {
      "application/javascript": [
       "\n",
       "        window._wandbApiKey = new Promise((resolve, reject) => {\n",
       "            function loadScript(url) {\n",
       "            return new Promise(function(resolve, reject) {\n",
       "                let newScript = document.createElement(\"script\");\n",
       "                newScript.onerror = reject;\n",
       "                newScript.onload = resolve;\n",
       "                document.body.appendChild(newScript);\n",
       "                newScript.src = url;\n",
       "            });\n",
       "            }\n",
       "            loadScript(\"https://cdn.jsdelivr.net/npm/postmate/build/postmate.min.js\").then(() => {\n",
       "            const iframe = document.createElement('iframe')\n",
       "            iframe.style.cssText = \"width:0;height:0;border:none\"\n",
       "            document.body.appendChild(iframe)\n",
       "            const handshake = new Postmate({\n",
       "                container: iframe,\n",
       "                url: 'https://wandb.ai/authorize'\n",
       "            });\n",
       "            const timeout = setTimeout(() => reject(\"Couldn't auto authenticate\"), 5000)\n",
       "            handshake.then(function(child) {\n",
       "                child.on('authorize', data => {\n",
       "                    clearTimeout(timeout)\n",
       "                    resolve(data)\n",
       "                });\n",
       "            });\n",
       "            })\n",
       "        });\n",
       "    "
      ],
      "text/plain": [
       "<IPython.core.display.Javascript object>"
      ]
     },
     "metadata": {
      "tags": []
     },
     "output_type": "display_data"
    },
    {
     "name": "stderr",
     "output_type": "stream",
     "text": [
      "\u001b[34m\u001b[1mwandb\u001b[0m: Appending key for api.wandb.ai to your netrc file: /root/.netrc\n"
     ]
    },
    {
     "data": {
      "text/html": [
       "\n",
       "                Tracking run with wandb version 0.10.25<br/>\n",
       "                Syncing run <strong style=\"color:#cdcd00\">drawn-dust-11</strong> to <a href=\"https://wandb.ai\" target=\"_blank\">Weights & Biases</a> <a href=\"https://docs.wandb.com/integrations/jupyter.html\" target=\"_blank\">(Documentation)</a>.<br/>\n",
       "                Project page: <a href=\"https://wandb.ai/kade/mnist-tf2\" target=\"_blank\">https://wandb.ai/kade/mnist-tf2</a><br/>\n",
       "                Run page: <a href=\"https://wandb.ai/kade/mnist-tf2/runs/gh2nx2jh\" target=\"_blank\">https://wandb.ai/kade/mnist-tf2/runs/gh2nx2jh</a><br/>\n",
       "                Run data is saved locally in <code>/content/wandb/run-20210407_130914-gh2nx2jh</code><br/><br/>\n",
       "            "
      ],
      "text/plain": [
       "<IPython.core.display.HTML object>"
      ]
     },
     "metadata": {
      "tags": []
     },
     "output_type": "display_data"
    }
   ],
   "source": [
    "wandb.init(project='mnist-tf2')\n",
    "config = wandb.config\n",
    "config.learning_rate = 0.02\n",
    "config.dropout_rate = 0.3\n",
    "config.hidden1 = 256\n",
    "config.activation1 = 'tanh'"
   ]
  },
  {
   "cell_type": "code",
   "execution_count": 4,
   "metadata": {
    "colab": {
     "base_uri": "https://localhost:8080/"
    },
    "executionInfo": {
     "elapsed": 92695,
     "status": "ok",
     "timestamp": 1617800957215,
     "user": {
      "displayName": "해벅",
      "photoUrl": "",
      "userId": "02404938411472623204"
     },
     "user_tz": -540
    },
    "id": "oQEnpxZ_iI8J",
    "outputId": "586f0f19-b2b3-48b8-abe7-6f6145c85b96"
   },
   "outputs": [
    {
     "name": "stdout",
     "output_type": "stream",
     "text": [
      "Downloading data from https://storage.googleapis.com/tensorflow/tf-keras-datasets/mnist.npz\n",
      "11493376/11490434 [==============================] - 0s 0us/step\n"
     ]
    }
   ],
   "source": [
    "mnist = tf.keras.datasets.mnist\n",
    "\n",
    "(x_train, y_train), (x_test, y_test) = mnist.load_data()\n",
    "x_train, x_test = x_train / 255.0,  x_test / 255.0"
   ]
  },
  {
   "cell_type": "code",
   "execution_count": 5,
   "metadata": {
    "executionInfo": {
     "elapsed": 94278,
     "status": "ok",
     "timestamp": 1617800958799,
     "user": {
      "displayName": "해벅",
      "photoUrl": "",
      "userId": "02404938411472623204"
     },
     "user_tz": -540
    },
    "id": "3CmO0yCniVGR"
   },
   "outputs": [],
   "source": [
    "model = tf.keras.models.Sequential([\n",
    "    tf.keras.layers.Flatten(input_shape=(28, 28)),\n",
    "    tf.keras.layers.Dense(config.hidden1, activation=config.activation1),\n",
    "    tf.keras.layers.Dropout(config.dropout_rate),\n",
    "    tf.keras.layers.Dense(10, activation='softmax')\n",
    "])\n",
    "opt = tf.keras.optimizers.Adam(learning_rate=config.learning_rate)\n",
    "model.compile(optimizer=opt,\n",
    "              loss = 'sparse_categorical_crossentropy',\n",
    "              metrics = ['accuracy'])"
   ]
  },
  {
   "cell_type": "code",
   "execution_count": 6,
   "metadata": {
    "colab": {
     "base_uri": "https://localhost:8080/"
    },
    "executionInfo": {
     "elapsed": 133688,
     "status": "ok",
     "timestamp": 1617800998212,
     "user": {
      "displayName": "해벅",
      "photoUrl": "",
      "userId": "02404938411472623204"
     },
     "user_tz": -540
    },
    "id": "Q1-cBlUJixzU",
    "outputId": "3a294047-412f-4839-aa5e-ec4c7e924757"
   },
   "outputs": [
    {
     "name": "stdout",
     "output_type": "stream",
     "text": [
      "Train on 60000 samples, validate on 10000 samples\n",
      "Epoch 1/5\n",
      "WARNING:tensorflow:Entity <function Function._initialize_uninitialized_variables.<locals>.initialize_variables at 0x7f4cf0088950> could not be transformed and will be executed as-is. Please report this to the AutoGraph team. When filing the bug, set the verbosity to 10 (on Linux, `export AUTOGRAPH_VERBOSITY=10`) and attach the full output. Cause: module 'gast' has no attribute 'Num'\n",
      "WARNING: Entity <function Function._initialize_uninitialized_variables.<locals>.initialize_variables at 0x7f4cf0088950> could not be transformed and will be executed as-is. Please report this to the AutoGraph team. When filing the bug, set the verbosity to 10 (on Linux, `export AUTOGRAPH_VERBOSITY=10`) and attach the full output. Cause: module 'gast' has no attribute 'Num'\n",
      "60000/60000 [==============================] - 9s 152us/sample - loss: 0.8173 - accuracy: 0.8225 - val_loss: 0.4980 - val_accuracy: 0.8938\n",
      "Epoch 2/5\n",
      "60000/60000 [==============================] - 7s 123us/sample - loss: 0.8368 - accuracy: 0.8489 - val_loss: 0.4186 - val_accuracy: 0.9150\n",
      "Epoch 3/5\n",
      "60000/60000 [==============================] - 7s 121us/sample - loss: 0.8424 - accuracy: 0.8561 - val_loss: 0.4754 - val_accuracy: 0.9177\n",
      "Epoch 4/5\n",
      "60000/60000 [==============================] - 7s 122us/sample - loss: 0.8017 - accuracy: 0.8684 - val_loss: 0.7208 - val_accuracy: 0.8800\n",
      "Epoch 5/5\n",
      "60000/60000 [==============================] - 7s 120us/sample - loss: 0.8170 - accuracy: 0.8731 - val_loss: 0.4765 - val_accuracy: 0.9212\n",
      "10000/1 - 1s - loss: 0.2733 - accuracy: 0.9212\n"
     ]
    },
    {
     "data": {
      "text/plain": [
       "[0.4764561789106461, 0.9212]"
      ]
     },
     "execution_count": 6,
     "metadata": {
      "tags": []
     },
     "output_type": "execute_result"
    }
   ],
   "source": [
    "model.fit(x_train, y_train, \n",
    "          validation_data = (x_test, y_test), # 중간중간에 성능 체크\n",
    "          epochs=5, callbacks=[WandbCallback()])\n",
    "\n",
    "model.evaluate(x_test, y_test, verbose=2)"
   ]
  },
  {
   "cell_type": "code",
   "execution_count": 7,
   "metadata": {
    "colab": {
     "base_uri": "https://localhost:8080/"
    },
    "executionInfo": {
     "elapsed": 23739,
     "status": "ok",
     "timestamp": 1617801025147,
     "user": {
      "displayName": "해벅",
      "photoUrl": "",
      "userId": "02404938411472623204"
     },
     "user_tz": -540
    },
    "id": "0_OSDKRNi8VD",
    "outputId": "ee478f43-c61a-4bab-8fa0-628c5aca8bdc"
   },
   "outputs": [
    {
     "name": "stdout",
     "output_type": "stream",
     "text": [
      "\u001b[34m\u001b[1mwandb\u001b[0m: Starting wandb agent 🕵️\n",
      "2021-04-07 13:10:09,954 - wandb.wandb_agent - INFO - Running runs: []\n",
      "2021-04-07 13:10:10,263 - wandb.wandb_agent - INFO - Agent received command: run\n",
      "2021-04-07 13:10:10,263 - wandb.wandb_agent - INFO - Agent starting run with config:\n",
      "\tactivation1: relu\n",
      "\tdropout_rate: 0.5041661275976468\n",
      "\tepochs: 1958\n",
      "\thidden1: 121\n",
      "\tlearning_rate: 0.05230583391094892\n",
      "2021-04-07 13:10:10,265 - wandb.wandb_agent - INFO - About to run command: /usr/bin/env python \"MNIST + wandb + sweeps.ipynb\" --activation1=relu --dropout_rate=0.5041661275976468 --epochs=1958 --hidden1=121 --learning_rate=0.05230583391094892\n",
      "python3: can't open file 'MNIST + wandb + sweeps.ipynb': [Errno 2] No such file or directory\n",
      "2021-04-07 13:10:15,272 - wandb.wandb_agent - INFO - Running runs: ['eovldmxn']\n",
      "2021-04-07 13:10:15,272 - wandb.wandb_agent - INFO - Cleaning up finished run: eovldmxn\n",
      "2021-04-07 13:10:15,564 - wandb.wandb_agent - INFO - Agent received command: run\n",
      "2021-04-07 13:10:15,564 - wandb.wandb_agent - INFO - Agent starting run with config:\n",
      "\tactivation1: sigmoid\n",
      "\tdropout_rate: 0.6159482010356809\n",
      "\tepochs: 964\n",
      "\thidden1: 649\n",
      "\tlearning_rate: 0.0853762710624073\n",
      "2021-04-07 13:10:15,567 - wandb.wandb_agent - INFO - About to run command: /usr/bin/env python \"MNIST + wandb + sweeps.ipynb\" --activation1=sigmoid --dropout_rate=0.6159482010356809 --epochs=964 --hidden1=649 --learning_rate=0.0853762710624073\n",
      "python3: can't open file 'MNIST + wandb + sweeps.ipynb': [Errno 2] No such file or directory\n",
      "2021-04-07 13:10:20,573 - wandb.wandb_agent - INFO - Running runs: ['46qn84kj']\n",
      "2021-04-07 13:10:20,573 - wandb.wandb_agent - INFO - Cleaning up finished run: 46qn84kj\n",
      "2021-04-07 13:10:21,058 - wandb.wandb_agent - INFO - Agent received command: run\n",
      "2021-04-07 13:10:21,059 - wandb.wandb_agent - INFO - Agent starting run with config:\n",
      "\tactivation1: tanh\n",
      "\tdropout_rate: 1.0733395728741792\n",
      "\tepochs: 2798\n",
      "\thidden1: 547\n",
      "\tlearning_rate: 0.008034791817927557\n",
      "2021-04-07 13:10:21,060 - wandb.wandb_agent - INFO - About to run command: /usr/bin/env python \"MNIST + wandb + sweeps.ipynb\" --activation1=tanh --dropout_rate=1.0733395728741792 --epochs=2798 --hidden1=547 --learning_rate=0.008034791817927557\n",
      "python3: can't open file 'MNIST + wandb + sweeps.ipynb': [Errno 2] No such file or directory\n",
      "2021-04-07 13:10:26,070 - wandb.wandb_agent - INFO - Running runs: ['etuxy7bh']\n",
      "2021-04-07 13:10:26,071 - wandb.wandb_agent - ERROR - Detected 3 failed runs in the first 60 seconds, shutting down.\n",
      "2021-04-07 13:10:26,071 - wandb.wandb_agent - INFO - To disable this check set WANDB_AGENT_DISABLE_FLAPPING=true\n",
      "\u001b[34m\u001b[1mwandb\u001b[0m: Terminating and syncing runs. Press ctrl-c to kill.\n"
     ]
    }
   ],
   "source": [
    "!wandb agent kade/mnist-tf2/g4qy1gqe"
   ]
  }
 ],
 "metadata": {
  "accelerator": "GPU",
  "colab": {
   "authorship_tag": "ABX9TyOGQkJoWvGRWbGDnadcvzHV",
   "collapsed_sections": [],
   "name": "MNIST + wandb + sweeps.ipynb",
   "provenance": []
  },
  "kernelspec": {
   "display_name": "Python 3",
   "language": "python",
   "name": "python3"
  },
  "language_info": {
   "codemirror_mode": {
    "name": "ipython",
    "version": 3
   },
   "file_extension": ".py",
   "mimetype": "text/x-python",
   "name": "python",
   "nbconvert_exporter": "python",
   "pygments_lexer": "ipython3",
   "version": "3.7.10"
  },
  "toc": {
   "base_numbering": 1,
   "nav_menu": {},
   "number_sections": false,
   "sideBar": true,
   "skip_h1_title": false,
   "title_cell": "Table of Contents",
   "title_sidebar": "Contents",
   "toc_cell": false,
   "toc_position": {},
   "toc_section_display": true,
   "toc_window_display": false
  }
 },
 "nbformat": 4,
 "nbformat_minor": 1
}

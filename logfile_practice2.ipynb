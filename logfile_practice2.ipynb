{
  "nbformat": 4,
  "nbformat_minor": 0,
  "metadata": {
    "colab": {
      "name": "logfile_practice2.ipynb",
      "provenance": [],
      "mount_file_id": "1eh8j3sx4JrmwPi1lJLwtJncOp0SQEiPk",
      "authorship_tag": "ABX9TyO21ATejeKHfMrNBDMMjUqD",
      "include_colab_link": true
    },
    "kernelspec": {
      "name": "python3",
      "display_name": "Python 3"
    },
    "language_info": {
      "name": "python"
    }
  },
  "cells": [
    {
      "cell_type": "markdown",
      "metadata": {
        "id": "view-in-github",
        "colab_type": "text"
      },
      "source": [
        "<a href=\"https://colab.research.google.com/github/Haebuk/AutoML/blob/main/logfile_practice2.ipynb\" target=\"_parent\"><img src=\"https://colab.research.google.com/assets/colab-badge.svg\" alt=\"Open In Colab\"/></a>"
      ]
    },
    {
      "cell_type": "code",
      "metadata": {
        "colab": {
          "base_uri": "https://localhost:8080/"
        },
        "id": "xJfTogKXCaxZ",
        "outputId": "9dc4fbb0-28b5-4766-f49e-3d88acb9482b"
      },
      "source": [
        "import pandas as pd\n",
        "import os\n",
        "import re\n",
        "from tqdm import tqdm\n",
        "\n",
        "for path, dir, filenames in os.walk('/content/drive/MyDrive/input/access.log/'):\n",
        "    for filename in filenames:\n",
        "        logfile = os.path.join(path, filename)\n",
        "        print(logfile)"
      ],
      "execution_count": null,
      "outputs": [
        {
          "output_type": "stream",
          "text": [
            "/content/drive/MyDrive/input/access.log/access.log\n"
          ],
          "name": "stdout"
        }
      ]
    },
    {
      "cell_type": "code",
      "metadata": {
        "colab": {
          "base_uri": "https://localhost:8080/"
        },
        "id": "vfs-XpZSC9yO",
        "outputId": "4c2cdad1-b35d-477f-e530-6358c64f6f13"
      },
      "source": [
        "with open(logfile) as log:\n",
        "    line_num = 0\n",
        "    for i in log:\n",
        "        print(i)\n",
        "        line_num += 1\n",
        "        if line_num == 5: break"
      ],
      "execution_count": null,
      "outputs": [
        {
          "output_type": "stream",
          "text": [
            "54.36.149.41 - - [22/Jan/2019:03:56:14 +0330] \"GET /filter/27|13%20%D9%85%DA%AF%D8%A7%D9%BE%DB%8C%DA%A9%D8%B3%D9%84,27|%DA%A9%D9%85%D8%AA%D8%B1%20%D8%A7%D8%B2%205%20%D9%85%DA%AF%D8%A7%D9%BE%DB%8C%DA%A9%D8%B3%D9%84,p53 HTTP/1.1\" 200 30577 \"-\" \"Mozilla/5.0 (compatible; AhrefsBot/6.1; +http://ahrefs.com/robot/)\" \"-\"\n",
            "\n",
            "31.56.96.51 - - [22/Jan/2019:03:56:16 +0330] \"GET /image/60844/productModel/200x200 HTTP/1.1\" 200 5667 \"https://www.zanbil.ir/m/filter/b113\" \"Mozilla/5.0 (Linux; Android 6.0; ALE-L21 Build/HuaweiALE-L21) AppleWebKit/537.36 (KHTML, like Gecko) Chrome/66.0.3359.158 Mobile Safari/537.36\" \"-\"\n",
            "\n",
            "31.56.96.51 - - [22/Jan/2019:03:56:16 +0330] \"GET /image/61474/productModel/200x200 HTTP/1.1\" 200 5379 \"https://www.zanbil.ir/m/filter/b113\" \"Mozilla/5.0 (Linux; Android 6.0; ALE-L21 Build/HuaweiALE-L21) AppleWebKit/537.36 (KHTML, like Gecko) Chrome/66.0.3359.158 Mobile Safari/537.36\" \"-\"\n",
            "\n",
            "40.77.167.129 - - [22/Jan/2019:03:56:17 +0330] \"GET /image/14925/productModel/100x100 HTTP/1.1\" 200 1696 \"-\" \"Mozilla/5.0 (compatible; bingbot/2.0; +http://www.bing.com/bingbot.htm)\" \"-\"\n",
            "\n",
            "91.99.72.15 - - [22/Jan/2019:03:56:17 +0330] \"GET /product/31893/62100/%D8%B3%D8%B4%D9%88%D8%A7%D8%B1-%D8%AE%D8%A7%D9%86%DA%AF%DB%8C-%D9%BE%D8%B1%D9%86%D8%B3%D9%84%DB%8C-%D9%85%D8%AF%D9%84-PR257AT HTTP/1.1\" 200 41483 \"-\" \"Mozilla/5.0 (Windows NT 6.2; Win64; x64; rv:16.0)Gecko/16.0 Firefox/16.0\" \"-\"\n",
            "\n"
          ],
          "name": "stdout"
        }
      ]
    },
    {
      "cell_type": "code",
      "metadata": {
        "id": "m_s7J1E8DZF2"
      },
      "source": [
        "regex = '^(?P<IP>\\S+) - - \\[(?P<datetime>[^*]+)\\] \"(?P<method>\\S+) (?P<request>\\S+) HTTP/[0-9.]+\" (?P<status>[0-9]{3}) (?P<size>[0-9]+) \"(?P<url>\\S+) \"(?P<agent>[^\\^]+)\"'\n",
        "columns = ['IP', 'datetime', 'method', 'request', 'status', 'size', 'url', 'agent']"
      ],
      "execution_count": null,
      "outputs": []
    },
    {
      "cell_type": "code",
      "metadata": {
        "id": "8wKOrxj5GR5A"
      },
      "source": [
        "%mkdir parquet_dir"
      ],
      "execution_count": null,
      "outputs": []
    },
    {
      "cell_type": "code",
      "metadata": {
        "id": "VQzhr55pGT4H"
      },
      "source": [
        "def logfile_processing(logfile, output_dir, error_file):\n",
        "    with open(logfile) as log:\n",
        "        line_num = 0\n",
        "        parsed_list = []\n",
        "        for line in tqdm(log):\n",
        "            \n",
        "            try:\n",
        "                parsed_line = re.findall(regex, line)[0]\n",
        "                if line_num % 100000 == 0:\n",
        "                    print(line)\n",
        "                parsed_list.append(parsed_line)\n",
        "            except Exception as e:\n",
        "                with open(error_file, 'at') as error:\n",
        "                    print((line, str(e)), file=error)\n",
        "                continue\n",
        "            line_num += 1\n",
        "            if line_num % 250000 == 0:\n",
        "                df = pd.DataFrame(parsed_list, columns=columns)\n",
        "                df.to_parquet(f'{output_dir}/file_{line_num}.parquet')\n",
        "                parsed_list.clear()\n",
        "\n",
        "        df = pd.DataFrame(parsed_list, columns=columns)\n",
        "        df.to_parquet(f'{output_dir}/file_{line_num}.parquet')\n",
        "        parsed_list.clear()"
      ],
      "execution_count": null,
      "outputs": []
    },
    {
      "cell_type": "code",
      "metadata": {
        "colab": {
          "base_uri": "https://localhost:8080/"
        },
        "id": "WmFyEyH4ILUw",
        "outputId": "39f8a6f4-e935-43e3-96d2-8767aa41b8ec"
      },
      "source": [
        "%time logfile_processing(logfile=logfile, output_dir='parquet_dir', error_file='errors.txt')"
      ],
      "execution_count": null,
      "outputs": [
        {
          "output_type": "stream",
          "text": [
            "21133it [00:00, 106052.99it/s]"
          ],
          "name": "stderr"
        },
        {
          "output_type": "stream",
          "text": [
            "54.36.149.41 - - [22/Jan/2019:03:56:14 +0330] \"GET /filter/27|13%20%D9%85%DA%AF%D8%A7%D9%BE%DB%8C%DA%A9%D8%B3%D9%84,27|%DA%A9%D9%85%D8%AA%D8%B1%20%D8%A7%D8%B2%205%20%D9%85%DA%AF%D8%A7%D9%BE%DB%8C%DA%A9%D8%B3%D9%84,p53 HTTP/1.1\" 200 30577 \"-\" \"Mozilla/5.0 (compatible; AhrefsBot/6.1; +http://ahrefs.com/robot/)\" \"-\"\n",
            "\n"
          ],
          "name": "stdout"
        },
        {
          "output_type": "stream",
          "text": [
            "116714it [00:01, 106893.35it/s]"
          ],
          "name": "stderr"
        },
        {
          "output_type": "stream",
          "text": [
            "95.81.72.148 - - [22/Jan/2019:08:01:41 +0330] \"GET /image/53306/productModel/150x150 HTTP/1.1\" 200 3499 \"https://www.zanbil.ir/browse/digital-supplies/%D9%84%D9%88%D8%A7%D8%B2%D9%85-%D8%AF%DB%8C%D8%AC%DB%8C%D8%AA%D8%A7%D9%84\" \"Mozilla/5.0 (Windows NT 6.1; rv:60.0) Gecko/20100101 Firefox/60.0\" \"-\"\n",
            "\n"
          ],
          "name": "stdout"
        },
        {
          "output_type": "stream",
          "text": [
            "212292it [00:02, 103696.35it/s]"
          ],
          "name": "stderr"
        },
        {
          "output_type": "stream",
          "text": [
            "5.211.161.138 - - [22/Jan/2019:09:03:17 +0330] \"GET /image/54258/productModel/150x150 HTTP/1.1\" 200 3811 \"https://www.zanbil.ir/m/product/26784/54745/%D9%85%D8%A7%D8%B4%DB%8C%D9%86-%D9%84%D8%A8%D8%A7%D8%B3%D8%B4%D9%88%DB%8C%DB%8C-%D8%AF%D8%B1%D8%A8-%D8%A7%D8%B2-%D8%AC%D9%84%D9%88-%D8%B3%D8%A7%D9%85%D8%B3%D9%88%D9%86%DA%AF-%D9%85%D8%AF%D9%84-B1253-W\" \"Mozilla/5.0 (iPhone; CPU iPhone OS 12_1_2 like Mac OS X) AppleWebKit/605.1.15 (KHTML, like Gecko) Version/12.0 Mobile/15E148 Safari/604.1\" \"-\"\n",
            "\n"
          ],
          "name": "stdout"
        },
        {
          "output_type": "stream",
          "text": [
            "317407it [00:04, 75268.40it/s]"
          ],
          "name": "stderr"
        },
        {
          "output_type": "stream",
          "text": [
            "89.235.64.130 - - [22/Jan/2019:09:48:55 +0330] \"GET /image/32/brand HTTP/1.1\" 200 2161 \"https://www.zanbil.ir/filter/b16,b8,p3\" \"Mozilla/5.0 (Windows NT 6.1; Win64; x64) AppleWebKit/537.36 (KHTML, like Gecko) Chrome/71.0.3578.98 Safari/537.36\" \"-\"\n",
            "\n"
          ],
          "name": "stdout"
        },
        {
          "output_type": "stream",
          "text": [
            "414720it [00:04, 107361.52it/s]"
          ],
          "name": "stderr"
        },
        {
          "output_type": "stream",
          "text": [
            "2.177.185.120 - - [22/Jan/2019:10:28:08 +0330] \"GET /settings/logo HTTP/1.1\" 200 4120 \"https://www.zanbil.ir/m/browse/Teen-Furniture/%D9%85%D8%A8%D9%84%D9%85%D8%A7%D9%86-%DA%A9%D9%88%D8%AF%DA%A9-%D9%88-%D9%86%D9%88%D8%AC%D9%88%D8%A7%D9%86-\" \"Mozilla/5.0 (Android 6.0.1; Mobile; rv:64.0) Gecko/64.0 Firefox/64.0\" \"-\"\n",
            "\n"
          ],
          "name": "stdout"
        },
        {
          "output_type": "stream",
          "text": [
            "511444it [00:07, 30617.65it/s]"
          ],
          "name": "stderr"
        },
        {
          "output_type": "stream",
          "text": [
            "2.177.247.209 - - [22/Jan/2019:11:06:14 +0330] \"GET /image/148/brand HTTP/1.1\" 200 2490 \"https://www.zanbil.ir/filter/b183\" \"Mozilla/5.0 (Windows NT 10.0; Win64; x64) AppleWebKit/537.36 (KHTML, like Gecko) Chrome/71.0.3578.98 Safari/537.36\" \"-\"\n",
            "\n"
          ],
          "name": "stdout"
        },
        {
          "output_type": "stream",
          "text": [
            "612348it [00:07, 99545.96it/s]"
          ],
          "name": "stderr"
        },
        {
          "output_type": "stream",
          "text": [
            "2.188.27.28 - - [22/Jan/2019:11:42:46 +0330] \"GET /static/images/guarantees/bestPrice.png HTTP/1.1\" 200 7356 \"https://www.zanbil.ir/filter/b88\" \"Mozilla/5.0 (Windows NT 6.1) AppleWebKit/537.36 (KHTML, like Gecko) Chrome/71.0.3578.98 Safari/537.36\" \"-\"\n",
            "\n"
          ],
          "name": "stdout"
        },
        {
          "output_type": "stream",
          "text": [
            "721406it [00:09, 106970.29it/s]"
          ],
          "name": "stderr"
        },
        {
          "output_type": "stream",
          "text": [
            "46.225.91.44 - - [22/Jan/2019:12:20:20 +0330] \"GET /static/images/amp/instagram.png HTTP/1.1\" 200 7146 \"https://www.zanbil.ir/m/product/31940/62154/%D8%A7%D8%AC%D8%A7%D9%82-%DA%AF%D8%A7%D8%B2-%D9%85%D8%A8%D9%84%D9%87-%D8%A7%D8%AE%D9%88%D8%A7%D9%86-%D9%85%D8%AF%D9%84-M2-EDTS?utm_medium=PPC&utm_source=Torob\" \"Mozilla/5.0 (Linux; Android 8.0.0; SM-A320F) AppleWebKit/537.36 (KHTML, like Gecko) Chrome/71.0.3578.99 Mobile Safari/537.36\" \"-\"\n",
            "\n"
          ],
          "name": "stdout"
        },
        {
          "output_type": "stream",
          "text": [
            "815283it [00:11, 72513.00it/s]"
          ],
          "name": "stderr"
        },
        {
          "output_type": "stream",
          "text": [
            "92.114.26.96 - - [22/Jan/2019:12:56:29 +0330] \"GET /static/images/guarantees/bestPrice.png HTTP/1.1\" 200 7356 \"https://www.zanbil.ir/browse/home-appliances/%D9%84%D9%88%D8%A7%D8%B2%D9%85-%D8%AE%D8%A7%D9%86%DA%AF%DB%8C\" \"Mozilla/5.0 (Windows NT 6.1; rv:64.0) Gecko/20100101 Firefox/64.0\" \"-\"\n",
            "\n"
          ],
          "name": "stdout"
        },
        {
          "output_type": "stream",
          "text": [
            "917432it [00:12, 96850.12it/s]"
          ],
          "name": "stderr"
        },
        {
          "output_type": "stream",
          "text": [
            "151.243.195.154 - - [22/Jan/2019:13:34:11 +0330] \"GET /settings/logo HTTP/1.1\" 200 4120 \"https://www.zanbil.ir/content/view/paymentMethods\" \"Mozilla/5.0 (Windows NT 6.1; rv:64.0) Gecko/20100101 Firefox/64.0\" \"-\"\n",
            "\n"
          ],
          "name": "stdout"
        },
        {
          "output_type": "stream",
          "text": [
            "1019278it [00:14, 29001.52it/s]"
          ],
          "name": "stderr"
        },
        {
          "output_type": "stream",
          "text": [
            "2.181.160.157 - - [22/Jan/2019:14:11:45 +0330] \"GET /image/29044/productTypeMenu HTTP/1.1\" 200 11 \"https://www.zanbil.ir/browse/analog-watch/%D8%B3%D8%A7%D8%B9%D8%AA-%D9%85%DA%86%DB%8C-%D8%B9%D9%82%D8%B1%D8%A8%D9%87-%D8%A7%DB%8C\" \"Mozilla/5.0 (Windows NT 6.1; Trident/7.0; rv:11.0) like Gecko\" \"-\"\n",
            "\n"
          ],
          "name": "stdout"
        },
        {
          "output_type": "stream",
          "text": [
            "1111537it [00:15, 95174.28it/s]"
          ],
          "name": "stderr"
        },
        {
          "output_type": "stream",
          "text": [
            "78.39.205.249 - - [22/Jan/2019:14:51:34 +0330] \"POST /ajaxFilter/p41,t60,b2?name=%DA%A9%D9%88%D9%84%D8%B1-%DA%AF%D8%A7%D8%B2%DB%8C&productType=air-conditioner-split HTTP/1.1\" 200 4687 \"https://www.zanbil.ir/browse/air-conditioner-split/%DA%A9%D9%88%D9%84%D8%B1-%DA%AF%D8%A7%D8%B2%DB%8C\" \"Mozilla/5.0 (Windows NT 6.1; rv:64.0) Gecko/20100101 Firefox/64.0\" \"-\"\n",
            "\n"
          ],
          "name": "stdout"
        },
        {
          "output_type": "stream",
          "text": [
            "1215459it [00:16, 102630.20it/s]"
          ],
          "name": "stderr"
        },
        {
          "output_type": "stream",
          "text": [
            "46.209.64.130 - - [22/Jan/2019:15:32:21 +0330] \"GET /image/61050/productModel/100x100 HTTP/1.1\" 200 1540 \"https://www.zanbil.ir/product/30177/59828/%DB%8C%D8%AE%DA%86%D8%A7%D9%84-%D9%81%D8%B1%DB%8C%D8%B2%D8%B1-%D8%B3%D8%A7%DB%8C%D8%AF-%D8%A8%D8%A7%DB%8C-%D8%B3%D8%A7%DB%8C%D8%AF-%D8%B3%D8%A7%D9%85%D8%B3%D9%88%D9%86%DA%AF-%D9%85%D8%AF%D9%84-Rosso2-Alf?utm_medium=PPC&utm_source=Torob\" \"Mozilla/5.0 (Windows NT 10.0; Win64; x64) AppleWebKit/537.36 (KHTML, like Gecko) Chrome/71.0.3578.98 Safari/537.36\" \"-\"\n",
            "\n"
          ],
          "name": "stdout"
        },
        {
          "output_type": "stream",
          "text": [
            "1317605it [00:18, 71154.57it/s]"
          ],
          "name": "stderr"
        },
        {
          "output_type": "stream",
          "text": [
            "2.144.242.63 - - [22/Jan/2019:16:16:46 +0330] \"GET /image/31614?name=230.jpg&wh=200x200 HTTP/1.1\" 200 2915 \"https://torob.com/p/9c8c15c4-91dd-4054-a78f-745b7375d5dd/%D8%B3%D8%A7%DB%8C%D8%AF-%D8%A8%D8%A7%DB%8C-%D8%B3%D8%A7%DB%8C%D8%AF-28-%D9%81%D9%88%D8%AA-%D8%A7%D9%84-%D8%AC%DB%8C-%D9%85%D8%AF%D9%84-sxb53w/\" \"Mozilla/5.0 (Windows NT 6.1; Win64; x64) AppleWebKit/537.36 (KHTML, like Gecko) Chrome/71.0.3578.98 Safari/537.36\" \"-\"\n",
            "\n"
          ],
          "name": "stdout"
        },
        {
          "output_type": "stream",
          "text": [
            "1407423it [00:19, 95585.20it/s]"
          ],
          "name": "stderr"
        },
        {
          "output_type": "stream",
          "text": [
            "84.241.10.79 - - [22/Jan/2019:17:03:48 +0330] \"GET /image/4621?name=LB-901.jpg&wh=300x300 HTTP/1.1\" 200 3531 \"https://www.zanbil.ir/product/4621/%D8%AC%D8%A7%D8%B1%D9%88-%D8%B4%D8%A7%D8%B1%DA%98%DB%8C-%D8%A7%DB%8C%D8%B3%D8%AA%D8%A7%D8%AF%D9%87-%D8%AF%D8%B3%D8%AA%DB%8C-%D9%85%D8%AC%DB%8C%DA%A9-%D9%85%D8%AF%D9%84-LB-901\" \"Mozilla/5.0 (Windows NT 10.0; Win64; x64; rv:64.0) Gecko/20100101 Firefox/64.0\" \"-\"\n",
            "\n"
          ],
          "name": "stdout"
        },
        {
          "output_type": "stream",
          "text": [
            "1511090it [00:21, 26494.54it/s]"
          ],
          "name": "stderr"
        },
        {
          "output_type": "stream",
          "text": [
            "66.249.66.194 - - [22/Jan/2019:17:56:48 +0330] \"GET /m/filter/b173,b778 HTTP/1.1\" 200 21664 \"-\" \"Mozilla/5.0 (Linux; Android 6.0.1; Nexus 5X Build/MMB29P) AppleWebKit/537.36 (KHTML, like Gecko) Chrome/41.0.2272.96 Mobile Safari/537.36 (compatible; Googlebot/2.1; +http://www.google.com/bot.html)\" \"-\"\n",
            "\n"
          ],
          "name": "stdout"
        },
        {
          "output_type": "stream",
          "text": [
            "1618710it [00:22, 90956.67it/s]"
          ],
          "name": "stderr"
        },
        {
          "output_type": "stream",
          "text": [
            "2.184.51.204 - - [22/Jan/2019:18:47:16 +0330] \"GET /image/31791?name=sxb550-444.jpg&wh=300x300 HTTP/1.1\" 200 9383 \"https://www.zanbil.ir/product/31791/%DB%8C%D8%AE%DA%86%D8%A7%D9%84-%D9%81%D8%B1%DB%8C%D8%B2%D8%B1-%D8%B3%D8%A7%DB%8C%D8%AF-%D8%A8%D8%A7%DB%8C-%D8%B3%D8%A7%DB%8C%D8%AF-%D8%A7%D9%84-%D8%AC%DB%8C-%D9%85%D8%AF%D9%84-Bentlee-SXB550\" \"Mozilla/5.0 (Windows NT 6.1; Win64; x64) AppleWebKit/537.36 (KHTML, like Gecko) Chrome/71.0.3578.98 Safari/537.36\" \"-\"\n",
            "\n"
          ],
          "name": "stdout"
        },
        {
          "output_type": "stream",
          "text": [
            "1722100it [00:23, 103159.42it/s]"
          ],
          "name": "stderr"
        },
        {
          "output_type": "stream",
          "text": [
            "5.217.109.235 - - [22/Jan/2019:19:40:28 +0330] \"GET /image/877/brand HTTP/1.1\" 200 3121 \"https://www.zanbil.ir/filter/b215\" \"Mozilla/5.0 (Windows NT 10.0; Win64; x64) AppleWebKit/537.36 (KHTML, like Gecko) Chrome/71.0.3578.98 Safari/537.36\" \"-\"\n",
            "\n"
          ],
          "name": "stdout"
        },
        {
          "output_type": "stream",
          "text": [
            "1819020it [00:25, 71917.93it/s]"
          ],
          "name": "stderr"
        },
        {
          "output_type": "stream",
          "text": [
            "194.225.26.56 - - [22/Jan/2019:20:34:47 +0330] \"GET /static/css/font/wyekan/font.woff HTTP/1.1\" 200 28536 \"https://znbl.ir/static/bundle-bundle_site_head.css\" \"Mozilla/5.0 (Windows NT 10.0; Win64; x64) AppleWebKit/537.36 (KHTML, like Gecko) Chrome/71.0.3578.98 Safari/537.36\" \"-\"\n",
            "\n"
          ],
          "name": "stdout"
        },
        {
          "output_type": "stream",
          "text": [
            "1917427it [00:26, 100626.41it/s]"
          ],
          "name": "stderr"
        },
        {
          "output_type": "stream",
          "text": [
            "188.34.123.250 - - [22/Jan/2019:21:34:28 +0330] \"GET /static/css/font/wyekan/font.woff HTTP/1.1\" 200 28536 \"https://znbl.ir/static/bundle-bundle_site_head.css\" \"Mozilla/5.0 (Windows NT 10.0; Win64; x64; rv:64.0) Gecko/20100101 Firefox/64.0\" \"-\"\n",
            "\n"
          ],
          "name": "stdout"
        },
        {
          "output_type": "stream",
          "text": [
            "2014215it [00:28, 31001.55it/s]"
          ],
          "name": "stderr"
        },
        {
          "output_type": "stream",
          "text": [
            "109.110.191.174 - - [22/Jan/2019:22:28:50 +0330] \"GET /static/images/guarantees/fastDelivery.png HTTP/1.1\" 200 7713 \"https://www.zanbil.ir/m/filter/b218%2Cp5767?page=1\" \"Mozilla/5.0 (Linux; Android 8.0.0; SM-G950F) AppleWebKit/537.36 (KHTML, like Gecko) Chrome/71.0.3578.99 Mobile Safari/537.36\" \"-\"\n",
            "\n"
          ],
          "name": "stdout"
        },
        {
          "output_type": "stream",
          "text": [
            "2118669it [00:29, 100788.69it/s]"
          ],
          "name": "stderr"
        },
        {
          "output_type": "stream",
          "text": [
            "5.114.253.147 - - [22/Jan/2019:23:22:39 +0330] \"GET /image/59104/productModel/200x200 HTTP/1.1\" 200 3502 \"https://www.zanbil.ir/m/filter/b485%2Cb656%2Cp12786%2Ct460\" \"Mozilla/5.0 (Linux; Android 4.3; HUAWEI G6-U10 Build/HuaweiG6-U10) AppleWebKit/537.36 (KHTML, like Gecko) Chrome/35.0.1916.141 Mobile Safari/537.36\" \"-\"\n",
            "\n"
          ],
          "name": "stdout"
        },
        {
          "output_type": "stream",
          "text": [
            "2220849it [00:30, 113502.89it/s]"
          ],
          "name": "stderr"
        },
        {
          "output_type": "stream",
          "text": [
            "5.75.34.134 - - [23/Jan/2019:00:29:59 +0330] \"GET /image/29620?name=%D8%B3%D9%88%D9%BE%D8%B1-2.jpg&wh=50x50 HTTP/1.1\" 200 1208 \"https://www.zanbil.ir/product/29620/59054/%D8%AA%D8%B4%DA%A9-%DB%8C%DA%A9-%D9%86%D9%81%D8%B1%D9%87-%D8%AE%D9%88%D8%B4%D8%AE%D9%88%D8%A7%D8%A8-%D9%85%D8%AF%D9%84-%D8%B3%D9%88%D9%BE%D8%B1-%DA%A9%D9%84%D8%A7%D8%B3-%D9%87%D8%A7%D8%B1%D8%AF-%D8%B3%D8%A7%DB%8C%D8%B2-90*200\" \"Mozilla/5.0 (Windows NT 6.1; Win64; x64) AppleWebKit/537.36 (KHTML, like Gecko) Chrome/70.0.3538.102 Safari/537.36 OPR/57.0.3098.116\" \"-\"\n",
            "\n"
          ],
          "name": "stdout"
        },
        {
          "output_type": "stream",
          "text": [
            "2311026it [00:32, 68911.16it/s]"
          ],
          "name": "stderr"
        },
        {
          "output_type": "stream",
          "text": [
            "5.74.205.53 - - [23/Jan/2019:02:06:38 +0330] \"GET /image/60341/productModel/200x200 HTTP/1.1\" 200 4579 \"https://www.zanbil.ir/m/filter/b8?page=5\" \"Mozilla/5.0 (Linux; Android 5.1.1; SM-J500H) AppleWebKit/537.36 (KHTML, like Gecko) Chrome/71.0.3578.99 Mobile Safari/537.36\" \"-\"\n",
            "\n"
          ],
          "name": "stdout"
        },
        {
          "output_type": "stream",
          "text": [
            "2414768it [00:33, 108680.36it/s]"
          ],
          "name": "stderr"
        },
        {
          "output_type": "stream",
          "text": [
            "13.66.139.0 - - [23/Jan/2019:07:02:30 +0330] \"GET /product/28979/%D8%B5%D9%86%D8%AF%D9%84%DB%8C-%DA%86%D9%87%D8%A7%D8%B1%D9%BE%D8%A7%DB%8C%D9%87-%D8%AF%D8%A7%D9%86%D8%B4-%D8%A2%D9%85%D9%88%D8%B2%DB%8C-%D9%86%DB%8C%D9%84%D9%BE%D8%B1-%D9%85%D8%AF%D9%84-Nilper-Tablet-Arm-Chair-SH315M HTTP/1.1\" 200 41169 \"-\" \"Mozilla/5.0 (compatible; bingbot/2.0; +http://www.bing.com/bingbot.htm)\" \"-\"\n",
            "\n"
          ],
          "name": "stdout"
        },
        {
          "output_type": "stream",
          "text": [
            "2512435it [00:35, 31348.32it/s]"
          ],
          "name": "stderr"
        },
        {
          "output_type": "stream",
          "text": [
            "46.100.194.189 - - [23/Jan/2019:08:46:01 +0330] \"GET /image/58924/productModel/100x100 HTTP/1.1\" 200 1301 \"https://www.zanbil.ir/filter?f=p12786,b485,stexists\" \"Mozilla/5.0 (Windows NT 6.1; Win64; x64) AppleWebKit/537.36 (KHTML, like Gecko) Chrome/71.0.3578.98 Safari/537.36\" \"-\"\n",
            "\n"
          ],
          "name": "stdout"
        },
        {
          "output_type": "stream",
          "text": [
            "2619695it [00:36, 100980.22it/s]"
          ],
          "name": "stderr"
        },
        {
          "output_type": "stream",
          "text": [
            "178.252.149.234 - - [23/Jan/2019:09:36:46 +0330] \"GET /login/auth?login_error=1 HTTP/1.1\" 200 33552 \"https://www.zanbil.ir/login/auth?forwardUri=%2Fbasket%2Fcheckout\" \"Mozilla/5.0 (Windows NT 6.1; Win64; x64; rv:64.0) Gecko/20100101 Firefox/64.0\" \"-\"\n",
            "\n"
          ],
          "name": "stdout"
        },
        {
          "output_type": "stream",
          "text": [
            "2721390it [00:37, 112598.05it/s]"
          ],
          "name": "stderr"
        },
        {
          "output_type": "stream",
          "text": [
            "66.79.102.206 - - [23/Jan/2019:10:18:20 +0330] \"GET /settings/logo HTTP/1.1\" 200 4120 \"https://www.zanbil.ir/browse/furniture/%D9%85%D8%A8%D9%84%D9%85%D8%A7%D9%86\" \"Mozilla/5.0 (Windows NT 6.1; Win64; x64) AppleWebKit/537.36 (KHTML, like Gecko) Chrome/71.0.3578.98 Safari/537.36\" \"-\"\n",
            "\n"
          ],
          "name": "stdout"
        },
        {
          "output_type": "stream",
          "text": [
            "2819025it [00:39, 76326.17it/s]"
          ],
          "name": "stderr"
        },
        {
          "output_type": "stream",
          "text": [
            "151.243.202.116 - - [23/Jan/2019:10:57:30 +0330] \"GET /image/33605?name=55nu8900-111.jpg&wh=max HTTP/1.1\" 200 73268 \"https://www.zanbil.ir/product/33605/%D8%AA%D9%84%D9%88%DB%8C%D8%B2%DB%8C%D9%88%D9%86-%D8%A7%D9%84-%D8%A7%DB%8C-%D8%AF%DB%8C-%D8%B3%D8%A7%D9%85%D8%B3%D9%88%D9%86%DA%AF-%D9%85%D8%AF%D9%84-55NU8900-Ultra-HD-4K\" \"Mozilla/5.0 (Windows NT 6.1; rv:64.0) Gecko/20100101 Firefox/64.0\" \"-\"\n",
            "\n"
          ],
          "name": "stdout"
        },
        {
          "output_type": "stream",
          "text": [
            "2916796it [00:40, 104601.13it/s]"
          ],
          "name": "stderr"
        },
        {
          "output_type": "stream",
          "text": [
            "66.249.66.91 - - [23/Jan/2019:11:32:34 +0330] \"GET /static/images/amp/third-party/footer-mobile.png HTTP/1.1\" 304 0 \"-\" \"Googlebot-Image/1.0\" \"-\"\n",
            "\n"
          ],
          "name": "stdout"
        },
        {
          "output_type": "stream",
          "text": [
            "3013359it [00:42, 31222.65it/s]"
          ],
          "name": "stderr"
        },
        {
          "output_type": "stream",
          "text": [
            "5.113.124.62 - - [23/Jan/2019:12:09:10 +0330] \"GET /settings/logo HTTP/1.1\" 200 4120 \"https://www.zanbil.ir/m/browse/bath-toilet/%D8%AA%D8%AC%D9%87%DB%8C%D8%B2%D8%A7%D8%AA-%D8%AD%D9%85%D8%A7%D9%85-%D9%88-%D8%AF%D8%B3%D8%AA%D8%B4%D9%88%DB%8C%DB%8C\" \"Mozilla/5.0 (Linux; Android 7.1.2; Redmi Note 5A Build/N2G47H) AppleWebKit/537.36 (KHTML, like Gecko) Chrome/65.0.3325.109 Mobile Safari/537.36\" \"-\"\n",
            "\n"
          ],
          "name": "stdout"
        },
        {
          "output_type": "stream",
          "text": [
            "3119225it [00:43, 100974.76it/s]"
          ],
          "name": "stderr"
        },
        {
          "output_type": "stream",
          "text": [
            "2.191.132.196 - - [23/Jan/2019:12:47:30 +0330] \"GET /image/3751/productModel/100x100 HTTP/1.1\" 200 1679 \"https://www.zanbil.ir/browse/chopper/%D8%AE%D8%B1%D8%AF%DA%A9%D9%86\" \"Mozilla/5.0 (Windows NT 6.1) AppleWebKit/537.36 (KHTML, like Gecko) Chrome/71.0.3578.98 Safari/537.36\" \"-\"\n",
            "\n"
          ],
          "name": "stdout"
        },
        {
          "output_type": "stream",
          "text": [
            "3215419it [00:44, 101762.98it/s]"
          ],
          "name": "stderr"
        },
        {
          "output_type": "stream",
          "text": [
            "66.249.66.92 - - [23/Jan/2019:13:26:20 +0330] \"GET /filter/b481%2Cb874%2Cb226%2Cb570%2Cb598%2Cstexists%2Cb270%2Cb883%2Cb99%2Cb249%2Cb20%2Cb701%2Cb42%2Cb879%2Cb548%2Cb183%2Cb308%2Cb1%2Cb523%2Cb900%2Cb188%2Cb703%2Cb890%2Cb148%2Cb651%2Cb41%2Cb647%2Cb22%2Cb613%2Cb6%2Cb221%2Cb36%2Cb614%2Cb3%2Cb216%2Cb573%2Cb151%2Cb185%2Cb32%2Cb441%2Cb143%2Cb877%2Cb209%2Cb231%2Cb543%2Cb795%2Cb152%2Cb5%2Cb74%2Cb435%2Cb202%2Cb105%2Cb236%2Cb484%2Cb723%2Cb35%2Cb180%2Cb454%2Cb596%2Cb619%2Cb168?page=86 HTTP/1.1\" 200 41942 \"-\" \"Mozilla/5.0 (compatible; Googlebot/2.1; +http://www.google.com/bot.html)\" \"-\"\n",
            "\n"
          ],
          "name": "stdout"
        },
        {
          "output_type": "stream",
          "text": [
            "3311369it [00:46, 66649.13it/s]"
          ],
          "name": "stderr"
        },
        {
          "output_type": "stream",
          "text": [
            "5.160.86.202 - - [23/Jan/2019:14:04:39 +0330] \"GET /image/31953?wh=400x400&name=lh-369xbh-3.jpg HTTP/1.1\" 200 14280 \"https://www.zanbil.ir/product/31953/62170/%D8%B3%DB%8C%D9%86%D9%85%D8%A7-%D8%AE%D8%A7%D9%86%DA%AF%DB%8C-%D8%A7%D9%84-%D8%AC%DB%8C-%D9%85%D8%AF%D9%84-LH-369XBH\" \"Mozilla/5.0 (Windows NT 10.0; Win64; x64; rv:64.0) Gecko/20100101 Firefox/64.0\" \"-\"\n",
            "\n"
          ],
          "name": "stdout"
        },
        {
          "output_type": "stream",
          "text": [
            "3416873it [00:47, 103198.91it/s]"
          ],
          "name": "stderr"
        },
        {
          "output_type": "stream",
          "text": [
            "5.209.92.180 - - [23/Jan/2019:14:45:15 +0330] \"GET /order/create/deliveryMethodForm?chkConfirmLawsSite=on&price20=290000.0&deliverySourceStation=20&price6=89000.0 HTTP/1.1\" 302 0 \"-\" \"Mozilla/5.0 (Linux; Android 8.0.0; SAMSUNG SM-A720F Build/R16NW) AppleWebKit/537.36 (KHTML, like Gecko) SamsungBrowser/7.0 Chrome/59.0.3071.125 Mobile Safari/537.36\" \"-\"\n",
            "\n"
          ],
          "name": "stdout"
        },
        {
          "output_type": "stream",
          "text": [
            "3510265it [00:49, 28641.21it/s]"
          ],
          "name": "stderr"
        },
        {
          "output_type": "stream",
          "text": [
            "5.236.237.70 - - [23/Jan/2019:15:27:35 +0330] \"GET /image/64646/productModel/100x100 HTTP/1.1\" 200 2860 \"https://www.zanbil.ir/product/31641/%D8%AA%D9%84%D9%88%DB%8C%D8%B2%DB%8C%D9%88%D9%86-%D8%A7%D9%84-%D8%A7%DB%8C-%D8%AF%DB%8C-%D8%A7%D9%84-%D8%AC%DB%8C-%D9%85%D8%AF%D9%84-49UJ69000GI-Ultra-HD-4K\" \"Mozilla/5.0 (Windows NT 6.3; Win64; x64) AppleWebKit/537.36 (KHTML, like Gecko) Chrome/71.0.3578.98 Safari/537.36\" \"-\"\n",
            "\n"
          ],
          "name": "stdout"
        },
        {
          "output_type": "stream",
          "text": [
            "3618988it [00:51, 95121.84it/s]"
          ],
          "name": "stderr"
        },
        {
          "output_type": "stream",
          "text": [
            "217.219.180.112 - - [23/Jan/2019:16:11:28 +0330] \"GET /image/%7B%7BbasketItem.id%7D%7D?type=productModel&wh=50x50 HTTP/1.1\" 200 5 \"https://www.zanbil.ir/product/31581/%DA%AF%D9%88%D8%B4%DB%8C-%D9%85%D9%88%D8%A8%D8%A7%DB%8C%D9%84-%D8%A7%D9%84-%D8%AC%DB%8C-%D9%85%D8%AF%D9%84-%28G6-Plus-128GB-%28H870DSU\" \"Mozilla/5.0 (Windows NT 6.1; rv:64.0) Gecko/20100101 Firefox/64.0\" \"-\"\n",
            "\n"
          ],
          "name": "stdout"
        },
        {
          "output_type": "stream",
          "text": [
            "3711148it [00:51, 97036.03it/s]"
          ],
          "name": "stderr"
        },
        {
          "output_type": "stream",
          "text": [
            "5.120.28.130 - - [23/Jan/2019:16:58:47 +0330] \"GET /image/22020/productModel/150x150 HTTP/1.1\" 200 2336 \"https://www.zanbil.ir/browse/medicine-and-health/%D9%BE%D8%B2%D8%B4%DA%A9%DB%8C-%D9%88-%D8%B3%D9%84%D8%A7%D9%85%D8%AA\" \"Mozilla/5.0 (Windows NT 10.0; Win64; x64; rv:56.0) Gecko/20100101 Firefox/56.0\" \"-\"\n",
            "\n"
          ],
          "name": "stdout"
        },
        {
          "output_type": "stream",
          "text": [
            "3809870it [00:54, 67432.20it/s]"
          ],
          "name": "stderr"
        },
        {
          "output_type": "stream",
          "text": [
            "82.99.210.154 - - [23/Jan/2019:17:45:43 +0330] \"GET /image/802/mainSlide HTTP/1.1\" 200 93262 \"https://www.zanbil.ir/browse/mattress/%D8%AA%D8%B4%DA%A9\" \"Mozilla/5.0 (Windows NT 6.1) AppleWebKit/537.36 (KHTML, like Gecko) Chrome/71.0.3578.98 Safari/537.36\" \"-\"\n",
            "\n"
          ],
          "name": "stdout"
        },
        {
          "output_type": "stream",
          "text": [
            "3914177it [00:55, 93656.29it/s]"
          ],
          "name": "stderr"
        },
        {
          "output_type": "stream",
          "text": [
            "46.209.99.138 - - [23/Jan/2019:18:37:42 +0330] \"GET /image/56249/productModel/100x100 HTTP/1.1\" 200 1388 \"https://www.zanbil.ir/product/31678/61786/%DB%8C%D8%AE%DA%86%D8%A7%D9%84-%D9%81%D8%B1%DB%8C%D8%B2%D8%B1-%D9%81%D8%B1%DB%8C%D8%B2%D8%B1-%D9%BE%D8%A7%DB%8C%DB%8C%D9%86-%D8%A7%D9%84-%D8%AC%DB%8C-%D9%85%D8%AF%D9%84-BF420TS\" \"Mozilla/5.0 (Windows NT 10.0; Win64; x64) AppleWebKit/537.36 (KHTML, like Gecko) Chrome/71.0.3578.98 Safari/537.36\" \"-\"\n",
            "\n"
          ],
          "name": "stdout"
        },
        {
          "output_type": "stream",
          "text": [
            "4017054it [00:57, 29185.12it/s]"
          ],
          "name": "stderr"
        },
        {
          "output_type": "stream",
          "text": [
            "66.249.66.194 - - [23/Jan/2019:19:34:34 +0330] \"GET /m/filter/b105,b126,b136,b143,b148,b151,b152,b168,b183,b185,b186,b188,b19,b194,b2,b20,b202,b209,b219,b22,b221,b226,b236,b249,b270,b308,b35,b4,b400,b42,b43,b441,b442,b454,b481,b485,b50,b546,b568,b570,b596,b597,b598,b645,b647,b648,b651,b679,b701,b723,b724,b74,b80,b82,b854,b861,b874,b877,b88,b883,b890,b900,b903,b95,b99 HTTP/1.1\" 200 28042 \"-\" \"Mozilla/5.0 (Linux; Android 6.0.1; Nexus 5X Build/MMB29P) AppleWebKit/537.36 (KHTML, like Gecko) Chrome/41.0.2272.96 Mobile Safari/537.36 (compatible; Googlebot/2.1; +http://www.google.com/bot.html)\" \"-\"\n",
            "\n"
          ],
          "name": "stdout"
        },
        {
          "output_type": "stream",
          "text": [
            "4113330it [00:58, 96736.96it/s]"
          ],
          "name": "stderr"
        },
        {
          "output_type": "stream",
          "text": [
            "66.249.66.91 - - [23/Jan/2019:20:29:23 +0330] \"GET /static/css/font/wyekan/font.woff HTTP/1.1\" 304 0 \"-\" \"Mozilla/5.0 (Linux; Android 6.0.1; Nexus 5X Build/MMB29P) AppleWebKit/537.36 (KHTML, like Gecko) Chrome/41.0.2272.96 Mobile Safari/537.36 (compatible; Googlebot/2.1; +http://www.google.com/bot.html)\" \"-\"\n",
            "\n"
          ],
          "name": "stdout"
        },
        {
          "output_type": "stream",
          "text": [
            "4214317it [00:59, 111368.11it/s]"
          ],
          "name": "stderr"
        },
        {
          "output_type": "stream",
          "text": [
            "83.121.172.202 - - [23/Jan/2019:21:24:25 +0330] \"GET /m/prepareSearch?phrase=%DA%83%D8%B1%D8%AE+%DA%AF%D9%88%D8%B4%D8%AA+%D9%85%D9%88%D9%84%DB%8C%D9%86%DA%A9%D8%B3+ HTTP/1.1\" 302 0 \"https://www.zanbil.ir/m/filter/p25?page=3\" \"Mozilla/5.0 (Linux; Android 6.0; CAM-L21 Build/HUAWEICAM-L21) AppleWebKit/537.36 (KHTML, like Gecko) Chrome/54.0.2840.85 Mobile Safari/537.36\" \"-\"\n",
            "\n"
          ],
          "name": "stdout"
        },
        {
          "output_type": "stream",
          "text": [
            "4312183it [01:01, 67384.71it/s]"
          ],
          "name": "stderr"
        },
        {
          "output_type": "stream",
          "text": [
            "188.159.102.185 - - [23/Jan/2019:22:17:51 +0330] \"GET /image/22520/productModel/200x200 HTTP/1.1\" 200 4021 \"https://www.zanbil.ir/m/browse/Fruit-Enamels/%D9%85%DB%8C%D9%88%D9%87-%D8%AE%D9%88%D8%B1%DB%8C-%D9%85%DB%8C%D9%86%D8%A7%DA%A9%D8%A7%D8%B1%DB%8C\" \"Mozilla/5.0 (Linux; Android 5.1.1; ASUS_L001) AppleWebKit/537.36 (KHTML, like Gecko) Chrome/71.0.3578.99 Safari/537.36\" \"-\"\n",
            "\n"
          ],
          "name": "stdout"
        },
        {
          "output_type": "stream",
          "text": [
            "4412596it [01:02, 108281.22it/s]"
          ],
          "name": "stderr"
        },
        {
          "output_type": "stream",
          "text": [
            "5.239.189.251 - - [23/Jan/2019:23:09:32 +0330] \"GET /product/31645/61736/%D8%AA%D9%84%D9%88%DB%8C%D8%B2%DB%8C%D9%88%D9%86-%D8%A7%D9%84-%D8%A7%DB%8C-%D8%AF%DB%8C-%D8%A7%D9%84-%D8%AC%DB%8C-%D9%85%D8%AF%D9%84-49LJ52700GI HTTP/1.1\" 200 41945 \"https://www.zanbil.ir/filter/p65,b2,stexists,6313|49%20%D8%A7%DB%8C%D9%86%DA%86?o=6313\" \"Mozilla/5.0 (Windows NT 6.1; rv:64.0) Gecko/20100101 Firefox/64.0\" \"-\"\n",
            "\n"
          ],
          "name": "stdout"
        },
        {
          "output_type": "stream",
          "text": [
            "4514155it [01:04, 33216.04it/s]"
          ],
          "name": "stderr"
        },
        {
          "output_type": "stream",
          "text": [
            "5.200.182.84 - - [24/Jan/2019:00:07:20 +0330] \"GET /m/product/16664/31799/%D9%85%D8%A7%D8%B4%DB%8C%D9%86-%D8%B8%D8%B1%D9%81%D8%B4%D9%88%DB%8C%DB%8C-%D8%AA%D9%88%DA%A9%D8%A7%D8%B1-%D9%84%D8%AA%D9%88-%D9%85%D8%AF%D9%84-DWM-03 HTTP/1.1\" 200 20401 \"https://www.zanbil.ir/m/filter/b136%2Cp5\" \"Mozilla/5.0 (Linux; Android 4.4.2; Lenovo B6000-HV Build/KOT49H) AppleWebKit/537.36 (KHTML, like Gecko) Chrome/35.0.1916.141 Safari/537.36\" \"-\"\n",
            "\n"
          ],
          "name": "stdout"
        },
        {
          "output_type": "stream",
          "text": [
            "4614598it [01:05, 103575.41it/s]"
          ],
          "name": "stderr"
        },
        {
          "output_type": "stream",
          "text": [
            "66.249.66.91 - - [24/Jan/2019:01:33:59 +0330] \"GET /static/images/guarantees/warranty.png HTTP/1.1\" 304 0 \"-\" \"Googlebot-Image/1.0\" \"-\"\n",
            "\n"
          ],
          "name": "stdout"
        },
        {
          "output_type": "stream",
          "text": [
            "4718780it [01:06, 111300.80it/s]"
          ],
          "name": "stderr"
        },
        {
          "output_type": "stream",
          "text": [
            "66.249.66.194 - - [24/Jan/2019:06:28:06 +0330] \"GET /m/filter/b103,b105,b118,b126,b135,b136,b143,b148,b151,b152,b183,b185,b186,b188,b19,b192,b194,b198,b202,b209,b212,b218,b219,b22,b221,b224,b226,b236,b238,b249,b256,b270,b3,b308,b321,b36,b4,b400,b42,b43,b454,b481,b484,b497,b523,b546,b548,b596,b603,b613,b614,b615,b645,b647,b648,b651,b701,b723,b734,b74,b778,b80,b820,b861,b879,b88,b880,b883,b890,b900,b903,b95,b99 HTTP/1.1\" 200 28245 \"-\" \"Mozilla/5.0 (Linux; Android 6.0.1; Nexus 5X Build/MMB29P) AppleWebKit/537.36 (KHTML, like Gecko) Chrome/41.0.2272.96 Mobile Safari/537.36 (compatible; Googlebot/2.1; +http://www.google.com/bot.html)\" \"-\"\n",
            "\n"
          ],
          "name": "stdout"
        },
        {
          "output_type": "stream",
          "text": [
            "4815227it [01:08, 74480.84it/s]"
          ],
          "name": "stderr"
        },
        {
          "output_type": "stream",
          "text": [
            "2.179.237.76 - - [24/Jan/2019:08:52:08 +0330] \"GET /static/images/third-party/footer.png HTTP/1.1\" 200 56076 \"https://www.zanbil.ir/browse/bronze-clock/%D8%B3%D8%A7%D8%B9%D8%AA-%D8%A8%D8%B1%D9%86%D8%B2\" \"Mozilla/5.0 (Windows NT 6.1; rv:64.0) Gecko/20100101 Firefox/64.0\" \"-\"\n",
            "\n"
          ],
          "name": "stdout"
        },
        {
          "output_type": "stream",
          "text": [
            "4911508it [01:09, 100336.31it/s]"
          ],
          "name": "stderr"
        },
        {
          "output_type": "stream",
          "text": [
            "93.110.213.77 - - [24/Jan/2019:09:56:57 +0330] \"GET /image/31874?name=rc96d-22.jpg&wh=max HTTP/1.1\" 200 29919 \"https://www.zanbil.ir/product/31874/62081/%D9%BE%D9%84%D9%88%D9%BE%D8%B2-%DA%86%D9%86%D8%AF%DA%A9%D8%A7%D8%B1%D9%87-%D9%81%D9%84%D8%B1-%D9%85%D8%AF%D9%84-RC96D\" \"Mozilla/5.0 (Windows NT 6.1) AppleWebKit/537.36 (KHTML, like Gecko) Chrome/71.0.3578.98 Safari/537.36\" \"-\"\n",
            "\n"
          ],
          "name": "stdout"
        },
        {
          "output_type": "stream",
          "text": [
            "5016414it [01:11, 28848.69it/s]"
          ],
          "name": "stderr"
        },
        {
          "output_type": "stream",
          "text": [
            "178.131.89.66 - - [24/Jan/2019:10:47:36 +0330] \"GET /image/183/brand HTTP/1.1\" 200 2286 \"https://www.zanbil.ir/m/browse/electric-shavers/%D9%85%D8%A7%D8%B4%DB%8C%D9%86-%D8%A7%D8%B5%D9%84%D8%A7%D8%AD\" \"Mozilla/5.0 (Linux; Android 7.1.1; MI MAX 2) AppleWebKit/537.36 (KHTML, like Gecko) Chrome/71.0.3578.99 Mobile Safari/537.36\" \"-\"\n",
            "\n"
          ],
          "name": "stdout"
        },
        {
          "output_type": "stream",
          "text": [
            "5115698it [01:12, 95068.02it/s]"
          ],
          "name": "stderr"
        },
        {
          "output_type": "stream",
          "text": [
            "5.213.164.211 - - [24/Jan/2019:11:34:25 +0330] \"GET /image/64648/productModel/200x200 HTTP/1.1\" 200 9165 \"https://www.zanbil.ir/m/filter/p65?page=2\" \"Mozilla/5.0 (Linux; Android 8.0.0; FIG-LA1 Build/HUAWEIFIG-LA1) AppleWebKit/537.36 (KHTML, like Gecko) Chrome/69.0.3497.100 Mobile Safari/537.36\" \"-\"\n",
            "\n"
          ],
          "name": "stdout"
        },
        {
          "output_type": "stream",
          "text": [
            "5214310it [01:13, 94197.69it/s]"
          ],
          "name": "stderr"
        },
        {
          "output_type": "stream",
          "text": [
            "94.183.209.44 - - [24/Jan/2019:12:18:02 +0330] \"GET / HTTP/1.1\" 200 31060 \"-\" \"Mozilla/5.0 (Windows NT 5.1; rv:52.0) Gecko/20100101 Firefox/52.0\" \"-\"\n",
            "\n"
          ],
          "name": "stdout"
        },
        {
          "output_type": "stream",
          "text": [
            "5309973it [01:15, 66582.61it/s]"
          ],
          "name": "stderr"
        },
        {
          "output_type": "stream",
          "text": [
            "5.211.216.155 - - [24/Jan/2019:13:07:15 +0330] \"GET /image/57752/productModel/150x150 HTTP/1.1\" 200 3207 \"https://www.zanbil.ir/m/product/11911/%D8%B5%D9%86%D8%AF%D9%84%DB%8C-%D9%85%D8%AF%DB%8C%D8%B1%DB%8C%D8%AA%DB%8C-%D9%86%DB%8C%D9%84%D9%BE%D8%B1-%D9%85%D8%AF%D9%84-Nilper-Executive-Chair-SM909E\" \"Mozilla/5.0 (Linux; Android 6.0; Redmi Pro Build/MRA58K) AppleWebKit/537.36 (KHTML, like Gecko) Chrome/61.0.3163.141 Mobile Safari/537.36 OPR/45.0.2246.125120\" \"-\"\n",
            "\n"
          ],
          "name": "stdout"
        },
        {
          "output_type": "stream",
          "text": [
            "5408910it [01:16, 92120.39it/s]"
          ],
          "name": "stderr"
        },
        {
          "output_type": "stream",
          "text": [
            "66.249.66.194 - - [24/Jan/2019:13:58:27 +0330] \"GET /filter/b213,p5 HTTP/1.1\" 200 33422 \"-\" \"Mozilla/5.0 (compatible; Googlebot/2.1; +http://www.google.com/bot.html)\" \"-\"\n",
            "\n"
          ],
          "name": "stdout"
        },
        {
          "output_type": "stream",
          "text": [
            "5510722it [01:19, 25683.80it/s]"
          ],
          "name": "stderr"
        },
        {
          "output_type": "stream",
          "text": [
            "37.202.133.153 - - [24/Jan/2019:14:50:17 +0330] \"GET /image/54307/productModel/100x100 HTTP/1.1\" 200 1950 \"https://www.zanbil.ir/product/31157/61042/%D9%85%D8%A7%D8%B4%DB%8C%D9%86-%D9%84%D8%A8%D8%A7%D8%B3%D8%B4%D9%88%DB%8C%DB%8C-%D8%AF%D8%B1%D8%A8-%D8%A7%D8%B2-%D8%AC%D9%84%D9%88-%D8%A8%D9%88%D8%B4-%D9%85%D8%AF%D9%84-WAB20262IR\" \"Mozilla/5.0 (Windows NT 6.1; rv:64.0) Gecko/20100101 Firefox/64.0\" \"-\"\n",
            "\n"
          ],
          "name": "stdout"
        },
        {
          "output_type": "stream",
          "text": [
            "5617598it [01:20, 99452.11it/s]"
          ],
          "name": "stderr"
        },
        {
          "output_type": "stream",
          "text": [
            "46.224.143.111 - - [24/Jan/2019:15:46:16 +0330] \"GET /image/65272/productModel/100x100 HTTP/1.1\" 200 1911 \"https://www.zanbil.ir/browse/cell-phone/%DA%AF%D9%88%D8%B4%DB%8C-%D9%85%D9%88%D8%A8%D8%A7%DB%8C%D9%84\" \"Mozilla/5.0 (Windows NT 10.0; Win64; x64) AppleWebKit/537.36 (KHTML, like Gecko) Chrome/71.0.3578.98 Safari/537.36\" \"-\"\n",
            "\n"
          ],
          "name": "stdout"
        },
        {
          "output_type": "stream",
          "text": [
            "5715937it [01:21, 108798.50it/s]"
          ],
          "name": "stderr"
        },
        {
          "output_type": "stream",
          "text": [
            "178.238.193.251 - - [24/Jan/2019:16:55:40 +0330] \"GET /image/31385/productTypeMenu HTTP/1.1\" 200 11 \"https://www.zanbil.ir/\" \"Mozilla/5.0 (Windows NT 6.1; rv:64.0) Gecko/20100101 Firefox/64.0\" \"-\"\n",
            "\n"
          ],
          "name": "stdout"
        },
        {
          "output_type": "stream",
          "text": [
            "5815388it [01:23, 77139.81it/s]"
          ],
          "name": "stderr"
        },
        {
          "output_type": "stream",
          "text": [
            "86.55.207.90 - - [24/Jan/2019:18:05:24 +0330] \"GET /image/1957/productModel/150x150 HTTP/1.1\" 200 3419 \"https://www.zanbil.ir/\" \"Mozilla/5.0 (iPhone; CPU iPhone OS 12_1_3 like Mac OS X) AppleWebKit/605.1.15 (KHTML, like Gecko) Version/12.0 Mobile/15E148 Safari/604.1\" \"-\"\n",
            "\n"
          ],
          "name": "stdout"
        },
        {
          "output_type": "stream",
          "text": [
            "5918697it [01:24, 110691.24it/s]"
          ],
          "name": "stderr"
        },
        {
          "output_type": "stream",
          "text": [
            "188.209.79.221 - - [24/Jan/2019:19:08:17 +0330] \"GET /settings/logo HTTP/1.1\" 200 4120 \"https://www.zanbil.ir/m/filter/p63?page=8\" \"Mozilla/5.0 (iPad; CPU OS 8_4_1 like Mac OS X) AppleWebKit/600.1.4 (KHTML, like Gecko) Version/8.0 Mobile/12H321 Safari/600.1.4\" \"-\"\n",
            "\n"
          ],
          "name": "stdout"
        },
        {
          "output_type": "stream",
          "text": [
            "6011044it [01:26, 24703.91it/s] "
          ],
          "name": "stderr"
        },
        {
          "output_type": "stream",
          "text": [
            "83.120.114.2 - - [24/Jan/2019:20:22:58 +0330] \"GET /static/images/guarantees/fastDelivery.png HTTP/1.1\" 200 7713 \"https://www.zanbil.ir/m/content/view/guarantee\" \"Mozilla/5.0 (Linux; Android 5.1.1; C6903) AppleWebKit/537.36 (KHTML, like Gecko) Chrome/71.0.3578.99 Mobile Safari/537.36\" \"-\"\n",
            "\n"
          ],
          "name": "stdout"
        },
        {
          "output_type": "stream",
          "text": [
            "6115126it [01:27, 94473.61it/s]"
          ],
          "name": "stderr"
        },
        {
          "output_type": "stream",
          "text": [
            "5.113.86.81 - - [24/Jan/2019:21:36:40 +0330] \"GET /order/track?trackingCode=9711040847&emailOrMobile=09127623107 HTTP/1.1\" 200 17458 \"https://www.zanbil.ir/order/track?trackingCode=9711040847\" \"Mozilla/5.0 (Linux; Android 5.0.2; HTC One_E8 dual sim Build/LRX22G) AppleWebKit/537.36 (KHTML, like Gecko) Chrome/53.0.2785.124 Mobile Safari/537.36\" \"-\"\n",
            "\n"
          ],
          "name": "stdout"
        },
        {
          "output_type": "stream",
          "text": [
            "6213257it [01:27, 103659.55it/s]"
          ],
          "name": "stderr"
        },
        {
          "output_type": "stream",
          "text": [
            "5.117.66.116 - - [24/Jan/2019:22:32:56 +0330] \"GET /favicon.ico HTTP/1.1\" 200 0 \"-\" \"MobileSafari/604.1 CFNetwork/976 Darwin/18.2.0\" \"-\"\n",
            "\n"
          ],
          "name": "stdout"
        },
        {
          "output_type": "stream",
          "text": [
            "6310818it [01:30, 67309.43it/s]"
          ],
          "name": "stderr"
        },
        {
          "output_type": "stream",
          "text": [
            "178.128.157.149 - - [24/Jan/2019:23:28:57 +0330] \"HEAD /amp_preconnect_polyfill_404_or_other_error_expected._Do_not_worry_about_it?1548360000000 HTTP/1.1\" 404 0 \"https://www.zanbil.ir/m/browse/microwave-oven/%D9%85%D8%A7%DB%8C%DA%A9%D8%B1%D9%88%D9%81%D8%B1\" \"Mozilla/5.0 (iPhone; CPU iPhone OS 10_3_3 like Mac OS X) AppleWebKit/603.3.8 (KHTML, like Gecko) Version/10.0 Mobile/14G60 Safari/602.1\" \"-\"\n",
            "\n"
          ],
          "name": "stdout"
        },
        {
          "output_type": "stream",
          "text": [
            "6420100it [01:31, 107377.89it/s]"
          ],
          "name": "stderr"
        },
        {
          "output_type": "stream",
          "text": [
            "5.114.161.87 - - [25/Jan/2019:00:31:02 +0330] \"GET /image/183/brand HTTP/1.1\" 200 2286 \"https://www.zanbil.ir/m/browse/shaver/%D8%B1%DB%8C%D8%B4-%D8%AA%D8%B1%D8%A7%D8%B4\" \"Mozilla/5.0 (Linux; Android 8.0.0; SM-A520F Build/R16NW) AppleWebKit/537.36 (KHTML, like Gecko) Chrome/69.0.3497.100 Mobile Safari/537.36\" \"-\"\n",
            "\n"
          ],
          "name": "stdout"
        },
        {
          "output_type": "stream",
          "text": [
            "6521935it [01:33, 32366.36it/s]"
          ],
          "name": "stderr"
        },
        {
          "output_type": "stream",
          "text": [
            "66.249.66.92 - - [25/Jan/2019:01:52:11 +0330] \"GET /product/16138/30477/%D8%A7%D8%AA%D9%88-%D9%85%D9%88-%D9%BE%D8%B1%D9%88%D9%85%DA%A9%D8%B3-%D9%85%D8%AF%D9%84-5721 HTTP/1.1\" 200 41348 \"-\" \"Mozilla/5.0 (compatible; Googlebot/2.1; +http://www.google.com/bot.html)\" \"-\"\n",
            "\n"
          ],
          "name": "stdout"
        },
        {
          "output_type": "stream",
          "text": [
            "6610596it [01:34, 93426.83it/s]"
          ],
          "name": "stderr"
        },
        {
          "output_type": "stream",
          "text": [
            "66.249.66.194 - - [25/Jan/2019:06:26:17 +0330] \"GET /m/filter/b1,b105,b135,b136,b148,b151,b168,b185,b194,b198,b20,b202,b212,b213,b221,b226,b231,b256,b3,b32,b35,b36,b400,b41,b43,b435,b441,b481,b482,b485,b497,b5,b542,b546,b570,b573,b574,b597,b598,b6,b613,b615,b619,b645,b647,b656,b67,b703,b723,b724,b8,b80,b874,b877,b879,b88 HTTP/1.1\" 200 27443 \"-\" \"Mozilla/5.0 (Linux; Android 6.0.1; Nexus 5X Build/MMB29P) AppleWebKit/537.36 (KHTML, like Gecko) Chrome/41.0.2272.96 Mobile Safari/537.36 (compatible; Googlebot/2.1; +http://www.google.com/bot.html)\" \"-\"\n",
            "\n"
          ],
          "name": "stdout"
        },
        {
          "output_type": "stream",
          "text": [
            "6711314it [01:34, 105322.40it/s]"
          ],
          "name": "stderr"
        },
        {
          "output_type": "stream",
          "text": [
            "83.123.162.231 - - [25/Jan/2019:09:26:36 +0330] \"GET /image/46638/productModel/200x200 HTTP/1.1\" 200 5683 \"https://www.zanbil.ir/m/filter/p2598?page=13\" \"Mozilla/5.0 (Linux; Android 8.1.0; SM-G610F Build/M1AJQ) AppleWebKit/537.36 (KHTML, like Gecko) Chrome/68.0.3440.91 Mobile Safari/537.36\" \"-\"\n",
            "\n"
          ],
          "name": "stdout"
        },
        {
          "output_type": "stream",
          "text": [
            "6817929it [01:37, 73184.26it/s]"
          ],
          "name": "stderr"
        },
        {
          "output_type": "stream",
          "text": [
            "2.177.73.231 - - [25/Jan/2019:10:45:38 +0330] \"GET /image/50860/productModel/200x200 HTTP/1.1\" 200 3681 \"https://www.zanbil.ir/m/filter/p24083?page=1\" \"Mozilla/5.0 (Linux; Android 8.0.0; SM-G960F) AppleWebKit/537.36 (KHTML, like Gecko) Chrome/71.0.3578.99 Mobile Safari/537.36\" \"-\"\n",
            "\n"
          ],
          "name": "stdout"
        },
        {
          "output_type": "stream",
          "text": [
            "6914020it [01:38, 100712.92it/s]"
          ],
          "name": "stderr"
        },
        {
          "output_type": "stream",
          "text": [
            "188.240.253.55 - - [25/Jan/2019:11:52:56 +0330] \"GET /image/56824/productModel/100x100 HTTP/1.1\" 200 1613 \"https://www.zanbil.ir/product/28086/56776/%D9%87%D9%88%D8%AF-%D8%B4%D9%88%D9%85%DB%8C%D9%86%D9%87-%D8%A7%DB%8C-%D8%A7%D8%AE%D9%88%D8%A7%D9%86-%D9%85%D8%AF%D9%84-H-18-G\" \"Mozilla/5.0 (Windows NT 6.1; rv:65.0) Gecko/20100101 Firefox/65.0\" \"-\"\n",
            "\n"
          ],
          "name": "stdout"
        },
        {
          "output_type": "stream",
          "text": [
            "7012514it [01:40, 31350.76it/s]"
          ],
          "name": "stderr"
        },
        {
          "output_type": "stream",
          "text": [
            "134.19.177.19 - - [25/Jan/2019:12:53:23 +0330] \"GET /rapidGrails/jsonList?maxColumns=16&domainClass=eshop.Order&filter=[{op:%27inSession%27,%20field:%27id%27,%20val:%27orderList2a160618da834fef822b95f5e3f54517%27}]&columns=[{%27name%27:%27trackingCode%27,%27width%27:110},{%27name%27:%27ownerName%27,%27width%27:120},{%27name%27:%27productsName%27,%27width%27:320,%27sortable%27:false},{%27name%27:%27ownerMobile%27,%27width%27:110},{%27name%27:%27deliveryMethodName%27,%27width%27:120,%27sortable%27:false},{%27name%27:%27deliveryCityName%27,%27width%27:120,%27sortable%27:false},{%27name%27:%27addressRegionName%27,%27width%27:120,%27sortable%27:false},{%27name%27:%27courier%27,%27width%27:120,%27expression%27:%27obj[\\x5C%27courier\\x5C%27]?.fullName%27},{%27name%27:%27status%27,%27width%27:110},{%27name%27:%27invoiceType%27,%27width%27:60,%27expression%27:%27g.message(code:%20obj[\\x5C%27invoiceTypeCode\\x5C%27])%27},{%27name%27:%27itemsDeliveryStatus%27,%27width%27:60},{%27name%27:%27creationType%27,%27width%27:50},{%27name%27:%27creationMedia%27,%27width%27:50},{%27name%27:%27completionMedia%27,%27width%27:50},{%27name%27:%27completionFollower%27,%27width%27:120},{%27name%27:%27lastActionDate%27,%27width%27:100,%27expression%27:%27rg.formatJalaliDate(date:%20%20obj[\\x5C%27lastActionDate\\x5C%27],%20hm:\\x5C%27true\\x5C%27%20)%27}]&_search=false&nd=1548408420007&rows=10&page=1&sidx=lastActionDate&sord=desc HTTP/1.1\" 200 1499 \"https://www.zanbil.ir/orderAdministration/console/187896\" \"Mozilla/5.0 (Macintosh; Intel Mac OS X 10_12_6) AppleWebKit/605.1.15 (KHTML, like Gecko) Version/12.0.3 Safari/605.1.15\" \"-\"\n",
            "\n"
          ],
          "name": "stdout"
        },
        {
          "output_type": "stream",
          "text": [
            "7121449it [01:41, 101490.42it/s]"
          ],
          "name": "stderr"
        },
        {
          "output_type": "stream",
          "text": [
            "2.176.64.160 - - [25/Jan/2019:13:49:29 +0330] \"GET /image/8856/specialSale?role=mobile HTTP/1.1\" 200 16216 \"https://www.zanbil.ir/m\" \"Mozilla/5.0 (Linux; Android 4.4.2; SM-T231 Build/KOT49H) AppleWebKit/537.36 (KHTML, like Gecko) Chrome/54.0.2840.85 Safari/537.36\" \"-\"\n",
            "\n"
          ],
          "name": "stdout"
        },
        {
          "output_type": "stream",
          "text": [
            "7218761it [01:42, 100776.62it/s]"
          ],
          "name": "stderr"
        },
        {
          "output_type": "stream",
          "text": [
            "5.122.206.170 - - [25/Jan/2019:14:48:37 +0330] \"POST /m/updateVariation?__amp_source_origin=https%3A%2F%2Fwww.zanbil.ir HTTP/1.1\" 200 318 \"https://www.zanbil.ir/m/product/33792/64530/%DB%8C%D8%AE%DA%86%D8%A7%D9%84-%D9%81%D8%B1%DB%8C%D8%B2%D8%B1-%D8%B3%D8%A7%DB%8C%D8%AF-%D8%A8%D8%A7%DB%8C-%D8%B3%D8%A7%DB%8C%D8%AF-TCL-%D9%85%D8%AF%D9%84-TRS-545E?utm_medium=PPC&utm_source=Torob\" \"Mozilla/5.0 (Linux; Android 5.1.1; STV100-4) AppleWebKit/537.36 (KHTML, like Gecko) Chrome/71.0.3578.99 Mobile Safari/537.36\" \"-\"\n",
            "\n"
          ],
          "name": "stdout"
        },
        {
          "output_type": "stream",
          "text": [
            "7313263it [01:44, 72879.19it/s]"
          ],
          "name": "stderr"
        },
        {
          "output_type": "stream",
          "text": [
            "151.239.240.200 - - [25/Jan/2019:15:47:20 +0330] \"GET /image/63153/productModel/200x200 HTTP/1.1\" 200 6754 \"https://www.zanbil.ir/m/filter/p6?page=1\" \"Mozilla/5.0 (Linux; Android 8.0.0; SM-G930F) AppleWebKit/537.36 (KHTML, like Gecko) Chrome/71.0.3578.99 Mobile Safari/537.36\" \"-\"\n",
            "\n"
          ],
          "name": "stdout"
        },
        {
          "output_type": "stream",
          "text": [
            "7421429it [01:45, 106310.55it/s]"
          ],
          "name": "stderr"
        },
        {
          "output_type": "stream",
          "text": [
            "2.187.68.96 - - [25/Jan/2019:16:50:44 +0330] \"GET /image/8165/productModel/100x100 HTTP/1.1\" 200 2062 \"https://www.zanbil.ir/browse/kitchen-equipment\" \"Mozilla/5.0 (Windows NT 6.1; Win64; x64; rv:64.0) Gecko/20100101 Firefox/64.0\" \"-\"\n",
            "\n"
          ],
          "name": "stdout"
        },
        {
          "output_type": "stream",
          "text": [
            "7510493it [01:47, 32374.11it/s]"
          ],
          "name": "stderr"
        },
        {
          "output_type": "stream",
          "text": [
            "5.127.95.143 - - [25/Jan/2019:17:53:28 +0330] \"GET /settings/logo HTTP/1.1\" 200 4120 \"https://www.zanbil.ir/product/27624/56132/%DA%AF%D9%88%D8%B4%DB%8C-%D9%85%D9%88%D8%A8%D8%A7%DB%8C%D9%84-%D8%A7%D9%84-%D8%AC%DB%8C-%D9%85%D8%AF%D9%84-X-Screen-Dual-16GB-%28K500DSZ%29\" \"Mozilla/5.0 (Windows NT 6.1; Win64; x64; rv:64.0) Gecko/20100101 Firefox/64.0\" \"-\"\n",
            "\n"
          ],
          "name": "stdout"
        },
        {
          "output_type": "stream",
          "text": [
            "7611618it [01:48, 104360.69it/s]"
          ],
          "name": "stderr"
        },
        {
          "output_type": "stream",
          "text": [
            "91.98.203.85 - - [25/Jan/2019:18:53:21 +0330] \"GET /site/alexaGooleAnalitic HTTP/1.1\" 200 323 \"https://www.zanbil.ir/product/30178/59830/%DB%8C%D8%AE%DA%86%D8%A7%D9%84-%D9%81%D8%B1%DB%8C%D8%B2%D8%B1-%D8%B3%D8%A7%DB%8C%D8%AF-%D8%A8%D8%A7%DB%8C-%D8%B3%D8%A7%DB%8C%D8%AF-%D8%B3%D8%A7%D9%85%D8%B3%D9%88%D9%86%DA%AF-%D9%85%D8%AF%D9%84-FSR12-W?utm_medium=PPC&utm_source=Torob\" \"Mozilla/5.0 (Windows NT 10.0; Win64; x64; rv:64.0) Gecko/20100101 Firefox/64.0\" \"-\"\n",
            "\n"
          ],
          "name": "stdout"
        },
        {
          "output_type": "stream",
          "text": [
            "7713916it [01:49, 105703.27it/s]"
          ],
          "name": "stderr"
        },
        {
          "output_type": "stream",
          "text": [
            "217.60.198.207 - - [25/Jan/2019:19:45:00 +0330] \"GET /image/56214/productModel/200x200 HTTP/1.1\" 200 4573 \"https://www.zanbil.ir/m/search/%D8%A8%D9%88%D8%B4?page=1\" \"Mozilla/5.0 (iPhone; CPU iPhone OS 12_1_2 like Mac OS X) AppleWebKit/605.1.15 (KHTML, like Gecko) Version/12.0 Mobile/15E148 Safari/604.1\" \"-\"\n",
            "\n"
          ],
          "name": "stdout"
        },
        {
          "output_type": "stream",
          "text": [
            "7812287it [01:51, 66917.40it/s]"
          ],
          "name": "stderr"
        },
        {
          "output_type": "stream",
          "text": [
            "89.34.45.136 - - [25/Jan/2019:20:35:51 +0330] \"GET /m/prepareSearch?phrase=%D8%A7%DA%86+%D9%BE%DB%8C+%D9%85%D8%AF%D9%84%DB%B1%DB%B5%DB%B3%DB%B6 HTTP/1.1\" 302 0 \"https://www.zanbil.ir/m/search/%D9%85%D8%AF%D9%84%DB%B1%DB%B5%DB%B3%DB%B6\" \"Mozilla/5.0 (Linux; Android 4.2.1; HUAWEI G700-U10) AppleWebKit/537.36 (KHTML, like Gecko) Chrome/71.0.3578.99 Mobile Safari/537.36\" \"-\"\n",
            "\n"
          ],
          "name": "stdout"
        },
        {
          "output_type": "stream",
          "text": [
            "7913938it [01:52, 108137.60it/s]"
          ],
          "name": "stderr"
        },
        {
          "output_type": "stream",
          "text": [
            "5.119.181.54 - - [25/Jan/2019:21:30:58 +0330] \"GET /image/19/productTypeType HTTP/1.1\" 200 11332 \"https://www.zanbil.ir/m/filter/p3?page=2\" \"Mozilla/5.0 (Linux; Android 8.0.0; SAMSUNG SM-A520F Build/R16NW) AppleWebKit/537.36 (KHTML, like Gecko) SamsungBrowser/8.2 Chrome/63.0.3239.111 Mobile Safari/537.36\" \"-\"\n",
            "\n"
          ],
          "name": "stdout"
        },
        {
          "output_type": "stream",
          "text": [
            "8014436it [01:54, 32169.46it/s]"
          ],
          "name": "stderr"
        },
        {
          "output_type": "stream",
          "text": [
            "83.122.116.213 - - [25/Jan/2019:22:18:56 +0330] \"GET /image/12351/productType/240x180 HTTP/1.1\" 200 16513 \"https://www.zanbil.ir/m/browse/baby/%D8%B3%DB%8C%D8%B3%D9%85%D9%88%D9%86%DB%8C-%D9%86%D9%88%D8%B2%D8%A7%D8%AF\" \"Mozilla/5.0 (iPhone; CPU iPhone OS 10_3_3 like Mac OS X) AppleWebKit/603.3.8 (KHTML, like Gecko) Version/10.0 Mobile/14G60 Safari/602.1\" \"-\"\n",
            "\n"
          ],
          "name": "stdout"
        },
        {
          "output_type": "stream",
          "text": [
            "8118653it [01:55, 97428.51it/s]"
          ],
          "name": "stderr"
        },
        {
          "output_type": "stream",
          "text": [
            "5.212.240.178 - - [25/Jan/2019:23:08:16 +0330] \"GET /image/58926/productModel/150x150 HTTP/1.1\" 200 1906 \"https://www.zanbil.ir/m/product/29567/59002/%D8%AA%D8%B4%DA%A9-%D8%AF%D9%88-%D9%86%D9%81%D8%B1%D9%87-%D8%B1%D9%88%DB%8C%D8%A7-%D9%85%D8%AF%D9%84-%D9%85%D8%AF%DB%8C%DA%A9%D8%A7%D9%84-3-%D8%B3%D8%A7%DB%8C%D8%B2-160*200\" \"Mozilla/5.0 (Linux; Android 8.0.0; SAMSUNG SM-G930F Build/R16NW) AppleWebKit/537.36 (KHTML, like Gecko) SamsungBrowser/8.2 Chrome/63.0.3239.111 Mobile Safari/537.36\" \"-\"\n",
            "\n"
          ],
          "name": "stdout"
        },
        {
          "output_type": "stream",
          "text": [
            "8217471it [01:56, 104142.49it/s]"
          ],
          "name": "stderr"
        },
        {
          "output_type": "stream",
          "text": [
            "66.249.66.194 - - [26/Jan/2019:00:05:40 +0330] \"GET /m/article/616/%D8%B9%D9%84%D8%AA-%D8%AE%D9%88%D8%A7%D8%A8-%D8%B1%D9%81%D8%AA%D9%86%D8%8C%DA%AF%D8%B2%DA%AF%D8%B2%D8%8C%D8%A8%DB%8C-%D8%AD%D8%B3%DB%8C-%D9%88-%D9%85%D9%88%D8%B1-%D9%85%D9%88%D8%B1-%D8%B4%D8%AF%D9%86-%D8%A7%D9%86%DA%AF%D8%B4%D8%AA%D8%A7%D9%86-%D8%AF%D8%B3%D8%AA-%D9%88-%D8%AF%D8%B1%D9%85%D8%A7%D9%86-%D8%A2%D9%86 HTTP/1.1\" 200 19682 \"-\" \"Mozilla/5.0 (Linux; Android 6.0.1; Nexus 5X Build/MMB29P) AppleWebKit/537.36 (KHTML, like Gecko) Chrome/41.0.2272.96 Mobile Safari/537.36 (compatible; Googlebot/2.1; +http://www.google.com/bot.html)\" \"-\"\n",
            "\n"
          ],
          "name": "stdout"
        },
        {
          "output_type": "stream",
          "text": [
            "8311462it [01:58, 63624.64it/s]"
          ],
          "name": "stderr"
        },
        {
          "output_type": "stream",
          "text": [
            "83.122.213.137 - - [26/Jan/2019:01:13:20 +0330] \"GET /image/6236/productModel/100x100 HTTP/1.1\" 200 2681 \"https://www.zanbil.ir/browse/shaver/%D8%B1%DB%8C%D8%B4-%D8%AA%D8%B1%D8%A7%D8%B4\" \"Mozilla/5.0 (Windows NT 10.0; WOW64; rv:65.0) Gecko/20100101 Firefox/65.0\" \"-\"\n",
            "\n"
          ],
          "name": "stdout"
        },
        {
          "output_type": "stream",
          "text": [
            "8418188it [01:59, 108646.12it/s]"
          ],
          "name": "stderr"
        },
        {
          "output_type": "stream",
          "text": [
            "178.251.212.114 - - [26/Jan/2019:04:47:53 +0330] \"GET /image/65144/productModel/100x100 HTTP/1.1\" 200 2138 \"https://www.zanbil.ir/filter/p62,b5\" \"Mozilla/5.0 (Windows NT 6.1) AppleWebKit/537.36 (KHTML, like Gecko) Chrome/71.0.3578.98 Safari/537.36\" \"-\"\n",
            "\n"
          ],
          "name": "stdout"
        },
        {
          "output_type": "stream",
          "text": [
            "8519739it [02:01, 31206.58it/s]"
          ],
          "name": "stderr"
        },
        {
          "output_type": "stream",
          "text": [
            "178.128.16.187 - - [26/Jan/2019:08:16:50 +0330] \"GET /image/57180/productModel/200x200 HTTP/1.1\" 200 5594 \"https://www.zanbil.ir/m/filter/p1392%2Cb135\" \"Mozilla/5.0 (Linux; Android 5.1; HUAWEI TIT-AL00) AppleWebKit/537.36 (KHTML, like Gecko) Chrome/71.0.3578.99 Mobile Safari/537.36\" \"-\"\n",
            "\n"
          ],
          "name": "stdout"
        },
        {
          "output_type": "stream",
          "text": [
            "8613989it [02:02, 96583.14it/s]"
          ],
          "name": "stderr"
        },
        {
          "output_type": "stream",
          "text": [
            "84.241.14.54 - - [26/Jan/2019:09:14:20 +0330] \"GET /image/26990/productModel/150x150 HTTP/1.1\" 200 3314 \"https://www.zanbil.ir/filter/b543,p14086\" \"Mozilla/5.0 (Windows NT 6.1; Win64; x64) AppleWebKit/537.36 (KHTML, like Gecko) Chrome/71.0.3578.98 Safari/537.36\" \"-\"\n",
            "\n"
          ],
          "name": "stdout"
        },
        {
          "output_type": "stream",
          "text": [
            "8717581it [02:03, 102197.33it/s]"
          ],
          "name": "stderr"
        },
        {
          "output_type": "stream",
          "text": [
            "207.46.13.49 - - [26/Jan/2019:09:56:06 +0330] \"GET /filter/b1,b103,b105,b109,b111,b113,b135,b144,b176,b186,b221,b261,b291,b36,b481,b52,b598,b615,b619,b77,b83,p1 HTTP/1.1\" 200 40516 \"-\" \"Mozilla/5.0 (compatible; bingbot/2.0; +http://www.bing.com/bingbot.htm)\" \"-\"\n",
            "\n"
          ],
          "name": "stdout"
        },
        {
          "output_type": "stream",
          "text": [
            "8813073it [02:05, 65929.30it/s]"
          ],
          "name": "stderr"
        },
        {
          "output_type": "stream",
          "text": [
            "5.122.135.20 - - [26/Jan/2019:10:34:28 +0330] \"GET /image/20/brand HTTP/1.1\" 200 1958 \"https://www.zanbil.ir/m/browse/tv/%D8%AA%D9%84%D9%88%DB%8C%D8%B2%DB%8C%D9%88%D9%86\" \"Mozilla/5.0 (Linux; Android 5.0.2; SM-T535 Build/LRX22G) AppleWebKit/537.36 (KHTML, like Gecko) Chrome/69.0.3497.100 Safari/537.36\" \"-\"\n",
            "\n"
          ],
          "name": "stdout"
        },
        {
          "output_type": "stream",
          "text": [
            "8919621it [02:06, 95037.38it/s]"
          ],
          "name": "stderr"
        },
        {
          "output_type": "stream",
          "text": [
            "37.129.83.153 - - [26/Jan/2019:11:09:39 +0330] \"GET /image/63218/productModel/200x200 HTTP/1.1\" 200 7669 \"https://www.zanbil.ir/m/filter/p65%2Ct31?name=%D8%AA%D9%84%D9%88%DB%8C%D8%B2%DB%8C%D9%88%D9%86&productType=tv\" \"Mozilla/5.0 (Linux; Android 7.0; SM-A710F Build/NRD90M; wv) AppleWebKit/537.36 (KHTML, like Gecko) Version/4.0 Chrome/64.0.3282.137 Mobile Safari/537.36\" \"-\"\n",
            "\n"
          ],
          "name": "stdout"
        },
        {
          "output_type": "stream",
          "text": [
            "9018214it [02:08, 27176.06it/s]"
          ],
          "name": "stderr"
        },
        {
          "output_type": "stream",
          "text": [
            "66.249.66.194 - - [26/Jan/2019:11:43:02 +0330] \"GET /image/29478?name=ultra3-1.jpg&wh=max HTTP/1.1\" 200 24545 \"-\" \"Googlebot-Image/1.0\" \"-\"\n",
            "\n"
          ],
          "name": "stdout"
        },
        {
          "output_type": "stream",
          "text": [
            "9112721it [02:09, 91110.40it/s]"
          ],
          "name": "stderr"
        },
        {
          "output_type": "stream",
          "text": [
            "5.234.104.76 - - [26/Jan/2019:12:20:34 +0330] \"POST /ajaxFilter/b1,p65,6313|43%20%D8%A7%DB%8C%D9%86%DA%86,b126?o=6313 HTTP/1.1\" 200 4604 \"https://www.zanbil.ir/filter/b1,p65,6313|43%20%D8%A7%DB%8C%D9%86%DA%86?o=6313\" \"Mozilla/5.0 (Windows NT 5.1; rv:52.0) Gecko/20100101 Firefox/52.0\" \"-\"\n",
            "\n"
          ],
          "name": "stdout"
        },
        {
          "output_type": "stream",
          "text": [
            "9217638it [02:10, 103879.37it/s]"
          ],
          "name": "stderr"
        },
        {
          "output_type": "stream",
          "text": [
            "5.209.255.70 - - [26/Jan/2019:12:53:09 +0330] \"GET /image/59034/productModel/200x200 HTTP/1.1\" 200 3274 \"https://www.zanbil.ir/m/filter/b485%2Cp12786\" \"Mozilla/5.0 (iPhone; CPU iPhone OS 11_2_6 like Mac OS X) AppleWebKit/604.1.34 (KHTML, like Gecko) CriOS/71.0.3578.89 Mobile/15D100 Safari/604.1\" \"-\"\n",
            "\n"
          ],
          "name": "stdout"
        },
        {
          "output_type": "stream",
          "text": [
            "9318242it [02:13, 68472.03it/s]"
          ],
          "name": "stderr"
        },
        {
          "output_type": "stream",
          "text": [
            "85.185.159.74 - - [26/Jan/2019:13:23:57 +0330] \"GET /image/8767/specialSale?role=e2 HTTP/1.1\" 200 11 \"https://www.zanbil.ir/filter/b2,p5\" \"Mozilla/5.0 (Windows NT 6.1; Win64; x64) AppleWebKit/537.36 (KHTML, like Gecko) Chrome/71.0.3578.98 Safari/537.36\" \"-\"\n",
            "\n"
          ],
          "name": "stdout"
        },
        {
          "output_type": "stream",
          "text": [
            "9416165it [02:14, 93440.20it/s]"
          ],
          "name": "stderr"
        },
        {
          "output_type": "stream",
          "text": [
            "46.209.74.99 - - [26/Jan/2019:13:56:28 +0330] \"GET /image/61971/productModel/150x150 HTTP/1.1\" 200 3396 \"https://www.zanbil.ir/browse/home-theater-system/%D8%B3%DB%8C%D9%86%D9%85%D8%A7-%D8%AE%D8%A7%D9%86%DA%AF%DB%8C\" \"Mozilla/5.0 (Windows NT 6.1; rv:61.0) Gecko/20100101 Firefox/61.0\" \"-\"\n",
            "\n"
          ],
          "name": "stdout"
        },
        {
          "output_type": "stream",
          "text": [
            "9515359it [02:16, 27101.68it/s]"
          ],
          "name": "stderr"
        },
        {
          "output_type": "stream",
          "text": [
            "46.248.52.242 - - [26/Jan/2019:14:27:58 +0330] \"GET /image/1141/article/100x100 HTTP/1.1\" 200 12789 \"https://www.zanbil.ir/browse/cell-phone/%DA%AF%D9%88%D8%B4%DB%8C-%D9%85%D9%88%D8%A8%D8%A7%DB%8C%D9%84\" \"Mozilla/5.0 (Windows NT 10.0; Win64; x64) AppleWebKit/537.36 (KHTML, like Gecko) Chrome/71.0.3578.98 Safari/537.36\" \"-\"\n",
            "\n"
          ],
          "name": "stdout"
        },
        {
          "output_type": "stream",
          "text": [
            "9615164it [02:17, 93100.57it/s]"
          ],
          "name": "stderr"
        },
        {
          "output_type": "stream",
          "text": [
            "5.112.97.225 - - [26/Jan/2019:15:03:22 +0330] \"GET /image/5712/productType/120x90 HTTP/1.1\" 200 12199 \"https://www.zanbil.ir/m/product/6414/%D8%A7%D8%AA%D9%88-%D9%85%D9%88-%D8%B1%D9%85%DB%8C%D9%86%DA%AF%D8%AA%D9%88%D9%86-%D9%85%D8%AF%D9%84-Remington-Hair-Straightener-S8590\" \"Mozilla/5.0 (Linux; Android 7.1.1; SM-J510F Build/NMF26X) AppleWebKit/537.36 (KHTML, like Gecko) Chrome/64.0.3282.137 Mobile Safari/537.36\" \"-\"\n",
            "\n"
          ],
          "name": "stdout"
        },
        {
          "output_type": "stream",
          "text": [
            "9712015it [02:18, 94408.67it/s]"
          ],
          "name": "stderr"
        },
        {
          "output_type": "stream",
          "text": [
            "31.184.177.226 - - [26/Jan/2019:15:43:02 +0330] \"GET /image/61236/productModel/150x150 HTTP/1.1\" 200 3934 \"https://www.zanbil.ir/browse/wc-set-and-cabinets/%D8%B3%D8%AA-%D8%B1%D9%88%D8%B4%D9%88%DB%8C%DB%8C-%D9%88-%DA%A9%D8%A7%D8%A8%DB%8C%D9%86%D8%AA\" \"Mozilla/5.0 (Windows NT 6.1) AppleWebKit/537.36 (KHTML, like Gecko) Chrome/71.0.3578.98 Safari/537.36\" \"-\"\n",
            "\n"
          ],
          "name": "stdout"
        },
        {
          "output_type": "stream",
          "text": [
            "9818209it [02:20, 67268.59it/s]"
          ],
          "name": "stderr"
        },
        {
          "output_type": "stream",
          "text": [
            "77.104.99.66 - - [26/Jan/2019:16:21:02 +0330] \"GET /image/63027/productModel/100x100 HTTP/1.1\" 200 2044 \"https://www.zanbil.ir/browse/sewing-machine/%DA%86%D8%B1%D8%AE-%D8%AE%DB%8C%D8%A7%D8%B7%DB%8C\" \"Mozilla/5.0 (Windows NT 10.0; Win64; x64) AppleWebKit/537.36 (KHTML, like Gecko) Chrome/71.0.3578.98 Safari/537.36\" \"-\"\n",
            "\n"
          ],
          "name": "stdout"
        },
        {
          "output_type": "stream",
          "text": [
            "9916055it [02:21, 92524.53it/s]"
          ],
          "name": "stderr"
        },
        {
          "output_type": "stream",
          "text": [
            "5.116.251.3 - - [26/Jan/2019:17:04:11 +0330] \"GET /static/images/guarantees/support.png HTTP/1.1\" 200 6454 \"https://www.zanbil.ir/m/product/34281/65260/%D9%84%D9%BE-%D8%AA%D8%A7%D9%BE-%D9%84%D9%86%D9%88%D9%88-%D9%85%D8%AF%D9%84-Lenovo-Yoga-300-11IBR\" \"Mozilla/5.0 (iPhone; CPU iPhone OS 10_3_3 like Mac OS X) AppleWebKit/603.3.8 (KHTML, like Gecko) Version/10.0 Mobile/14G60 Safari/602.1\" \"-\"\n",
            "\n"
          ],
          "name": "stdout"
        },
        {
          "output_type": "stream",
          "text": [
            "10010040it [02:24, 25926.34it/s]"
          ],
          "name": "stderr"
        },
        {
          "output_type": "stream",
          "text": [
            "66.249.66.91 - - [26/Jan/2019:17:52:27 +0330] \"GET /static/images/guarantees/bestPrice.png HTTP/1.1\" 304 0 \"-\" \"Googlebot-Image/1.0\" \"-\"\n",
            "\n"
          ],
          "name": "stdout"
        },
        {
          "output_type": "stream",
          "text": [
            "10111768it [02:25, 84857.69it/s]"
          ],
          "name": "stderr"
        },
        {
          "output_type": "stream",
          "text": [
            "5.211.179.131 - - [26/Jan/2019:18:37:40 +0330] \"GET /image/14734?name=10222.jpg&wh=max HTTP/1.1\" 200 35111 \"https://www.zanbil.ir/m/product/14734/%D8%B4%DA%A9%D9%85-%D8%A8%D9%86%D8%AF-Oppo-%D9%85%D8%AF%D9%84-2162-M\" \"Mozilla/5.0 (Linux; Android 7.0; SAMSUNG SM-A710F Build/NRD90M) AppleWebKit/537.36 (KHTML, like Gecko) SamsungBrowser/8.2 Chrome/63.0.3239.111 Mobile Safari/537.36\" \"-\"\n",
            "\n"
          ],
          "name": "stdout"
        },
        {
          "output_type": "stream",
          "text": [
            "10211125it [02:26, 84836.14it/s]"
          ],
          "name": "stderr"
        },
        {
          "output_type": "stream",
          "text": [
            "2.191.144.134 - - [26/Jan/2019:19:18:41 +0330] \"GET /image/399/brand HTTP/1.1\" 200 2302 \"https://www.zanbil.ir/browse/hood/%D9%87%D9%88%D8%AF\" \"Mozilla/5.0 (Windows NT 6.1; rv:64.0) Gecko/20100101 Firefox/64.0\" \"-\"\n",
            "\n"
          ],
          "name": "stdout"
        },
        {
          "output_type": "stream",
          "text": [
            "10318805it [02:28, 71407.73it/s]"
          ],
          "name": "stderr"
        },
        {
          "output_type": "stream",
          "text": [
            "86.55.88.52 - - [26/Jan/2019:19:59:04 +0330] \"GET /favicon.ico HTTP/1.1\" 200 0 \"https://www.zanbil.ir/m\" \"Mozilla/5.0 (Linux; Android 7.0; TRT-L21A) AppleWebKit/537.36 (KHTML, like Gecko) Chrome/70.0.3538.80 Mobile Safari/537.36\" \"-\"\n",
            "\n"
          ],
          "name": "stdout"
        },
        {
          "output_type": "stream",
          "text": [
            "10365152it [02:29, 69453.96it/s]\n"
          ],
          "name": "stderr"
        },
        {
          "output_type": "stream",
          "text": [
            "CPU times: user 2min 17s, sys: 9.58 s, total: 2min 26s\n",
            "Wall time: 2min 30s\n"
          ],
          "name": "stdout"
        }
      ]
    },
    {
      "cell_type": "code",
      "metadata": {
        "colab": {
          "base_uri": "https://localhost:8080/"
        },
        "id": "njZ2iveKOEfQ",
        "outputId": "8b8eac80-3765-44b0-b856-a75f206425d8"
      },
      "source": [
        "!wc errors.txt"
      ],
      "execution_count": null,
      "outputs": [
        {
          "output_type": "stream",
          "text": [
            "   294   7223 230187 errors.txt\n"
          ],
          "name": "stdout"
        }
      ]
    },
    {
      "cell_type": "code",
      "metadata": {
        "colab": {
          "base_uri": "https://localhost:8080/"
        },
        "id": "5hO8SPm_P4nx",
        "outputId": "548f4440-0f75-4a4a-fcf9-ed5bea90dfcb"
      },
      "source": [
        "%time logs_df = pd.read_parquet('parquet_dir/')"
      ],
      "execution_count": null,
      "outputs": [
        {
          "output_type": "stream",
          "text": [
            "CPU times: user 15.5 s, sys: 4.57 s, total: 20.1 s\n",
            "Wall time: 14.8 s\n"
          ],
          "name": "stdout"
        }
      ]
    },
    {
      "cell_type": "code",
      "metadata": {
        "colab": {
          "base_uri": "https://localhost:8080/"
        },
        "id": "Cf31TfPYQ4le",
        "outputId": "16cdb217-cf8d-4be3-c367-b264be56413a"
      },
      "source": [
        "!du -sh parquet_dir/"
      ],
      "execution_count": null,
      "outputs": [
        {
          "output_type": "stream",
          "text": [
            "257M\tparquet_dir/\n"
          ],
          "name": "stdout"
        }
      ]
    },
    {
      "cell_type": "code",
      "metadata": {
        "colab": {
          "base_uri": "https://localhost:8080/",
          "height": 289
        },
        "id": "q28XWObpQ_t3",
        "outputId": "33db3f52-de3e-4be6-fb98-25b39da5d200"
      },
      "source": [
        "logs_df.head()"
      ],
      "execution_count": null,
      "outputs": [
        {
          "output_type": "execute_result",
          "data": {
            "text/html": [
              "<div>\n",
              "<style scoped>\n",
              "    .dataframe tbody tr th:only-of-type {\n",
              "        vertical-align: middle;\n",
              "    }\n",
              "\n",
              "    .dataframe tbody tr th {\n",
              "        vertical-align: top;\n",
              "    }\n",
              "\n",
              "    .dataframe thead th {\n",
              "        text-align: right;\n",
              "    }\n",
              "</style>\n",
              "<table border=\"1\" class=\"dataframe\">\n",
              "  <thead>\n",
              "    <tr style=\"text-align: right;\">\n",
              "      <th></th>\n",
              "      <th>IP</th>\n",
              "      <th>datetime</th>\n",
              "      <th>method</th>\n",
              "      <th>request</th>\n",
              "      <th>status</th>\n",
              "      <th>size</th>\n",
              "      <th>url</th>\n",
              "      <th>agent</th>\n",
              "    </tr>\n",
              "  </thead>\n",
              "  <tbody>\n",
              "    <tr>\n",
              "      <th>0</th>\n",
              "      <td>37.152.163.59</td>\n",
              "      <td>22/Jan/2019:12:38:27 +0330</td>\n",
              "      <td>GET</td>\n",
              "      <td>/static/images/loading.gif</td>\n",
              "      <td>200</td>\n",
              "      <td>7370</td>\n",
              "      <td>https://www.zanbil.ir/product/29314/%DA%A9%D8%...</td>\n",
              "      <td>Mozilla/5.0 (Windows NT 6.1; WOW64; Trident/7....</td>\n",
              "    </tr>\n",
              "    <tr>\n",
              "      <th>1</th>\n",
              "      <td>77.245.233.52</td>\n",
              "      <td>22/Jan/2019:12:38:27 +0330</td>\n",
              "      <td>GET</td>\n",
              "      <td>/image/11082/productType/240x180</td>\n",
              "      <td>200</td>\n",
              "      <td>12458</td>\n",
              "      <td>https://www.zanbil.ir/browse/sports/%D8%AA%D8%...</td>\n",
              "      <td>Mozilla/5.0 (Windows NT 6.1; rv:64.0) Gecko/20...</td>\n",
              "    </tr>\n",
              "    <tr>\n",
              "      <th>2</th>\n",
              "      <td>37.27.128.139</td>\n",
              "      <td>22/Jan/2019:12:38:27 +0330</td>\n",
              "      <td>GET</td>\n",
              "      <td>/browse/Tablet-Arm-Chair/%D8%B5%D9%86%D8%AF%D9...</td>\n",
              "      <td>200</td>\n",
              "      <td>30604</td>\n",
              "      <td>https://www.zanbil.ir/browse/Classroom-Furnitu...</td>\n",
              "      <td>Mozilla/5.0 (Windows NT 5.1) AppleWebKit/537.3...</td>\n",
              "    </tr>\n",
              "    <tr>\n",
              "      <th>3</th>\n",
              "      <td>77.245.233.52</td>\n",
              "      <td>22/Jan/2019:12:38:27 +0330</td>\n",
              "      <td>GET</td>\n",
              "      <td>/image/851/mainSlide</td>\n",
              "      <td>200</td>\n",
              "      <td>89859</td>\n",
              "      <td>https://www.zanbil.ir/browse/sports/%D8%AA%D8%...</td>\n",
              "      <td>Mozilla/5.0 (Windows NT 6.1; rv:64.0) Gecko/20...</td>\n",
              "    </tr>\n",
              "    <tr>\n",
              "      <th>4</th>\n",
              "      <td>77.245.233.52</td>\n",
              "      <td>22/Jan/2019:12:38:27 +0330</td>\n",
              "      <td>GET</td>\n",
              "      <td>/image/848/mainSlide</td>\n",
              "      <td>200</td>\n",
              "      <td>93168</td>\n",
              "      <td>https://www.zanbil.ir/browse/sports/%D8%AA%D8%...</td>\n",
              "      <td>Mozilla/5.0 (Windows NT 6.1; rv:64.0) Gecko/20...</td>\n",
              "    </tr>\n",
              "  </tbody>\n",
              "</table>\n",
              "</div>"
            ],
            "text/plain": [
              "              IP  ...                                              agent\n",
              "0  37.152.163.59  ...  Mozilla/5.0 (Windows NT 6.1; WOW64; Trident/7....\n",
              "1  77.245.233.52  ...  Mozilla/5.0 (Windows NT 6.1; rv:64.0) Gecko/20...\n",
              "2  37.27.128.139  ...  Mozilla/5.0 (Windows NT 5.1) AppleWebKit/537.3...\n",
              "3  77.245.233.52  ...  Mozilla/5.0 (Windows NT 6.1; rv:64.0) Gecko/20...\n",
              "4  77.245.233.52  ...  Mozilla/5.0 (Windows NT 6.1; rv:64.0) Gecko/20...\n",
              "\n",
              "[5 rows x 8 columns]"
            ]
          },
          "metadata": {
            "tags": []
          },
          "execution_count": 68
        }
      ]
    },
    {
      "cell_type": "code",
      "metadata": {
        "colab": {
          "base_uri": "https://localhost:8080/"
        },
        "id": "dRz_-ccuREdX",
        "outputId": "d7bc9715-a4fc-426f-fb5a-f15bfbf00c40"
      },
      "source": [
        "logs_df.info()"
      ],
      "execution_count": null,
      "outputs": [
        {
          "output_type": "stream",
          "text": [
            "<class 'pandas.core.frame.DataFrame'>\n",
            "RangeIndex: 10364858 entries, 0 to 10364857\n",
            "Data columns (total 8 columns):\n",
            " #   Column    Dtype \n",
            "---  ------    ----- \n",
            " 0   IP        object\n",
            " 1   datetime  object\n",
            " 2   method    object\n",
            " 3   request   object\n",
            " 4   status    object\n",
            " 5   size      object\n",
            " 6   url       object\n",
            " 7   agent     object\n",
            "dtypes: object(8)\n",
            "memory usage: 632.6+ MB\n"
          ],
          "name": "stdout"
        }
      ]
    },
    {
      "cell_type": "code",
      "metadata": {
        "id": "6cRZbREzRFs3"
      },
      "source": [
        ""
      ],
      "execution_count": null,
      "outputs": []
    }
  ]
}